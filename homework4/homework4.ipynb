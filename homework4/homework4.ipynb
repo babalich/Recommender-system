{
 "cells": [
  {
   "cell_type": "markdown",
   "metadata": {},
   "source": [
    "## 1. Изучите структуру модуля src\n",
    "#### Done"
   ]
  },
  {
   "cell_type": "markdown",
   "metadata": {},
   "source": [
    "## 2. Перенесите функции prefilter_items и postfilter_items в модуль src.utils.py\n",
    "#### уже были перенесены"
   ]
  },
  {
   "cell_type": "markdown",
   "metadata": {},
   "source": [
    "## 3. Реализуйте функции get_similar_items_recommendation, get_similar_users_recommendation (они разбирались на вебинаре) и переместите в src.utils.py.  \n",
    "## postfilter можно пока оставить пустой (или как-то бороться с товаром 999999) - на Ваше усмотрение.  \n",
    "## В prefilter нужно реализовать закомментированные ограничения. \n",
    "#### а зачем нам эту функции и в utils, и в recommendation.py? Наверное, лучше сразу разместить это в собственном классе, поскольку при его инициализации мы можем посчитать, например, топ покупок по всем юзерам"
   ]
  },
  {
   "cell_type": "code",
   "execution_count": 1,
   "metadata": {},
   "outputs": [],
   "source": [
    "def prefilter_items(data_train, item_features, departpments_):\n",
    "    # Оставим только 5000 самых популярных товаров\n",
    "    popularity = data_train.groupby('item_id')['quantity'].sum().reset_index()\n",
    "    popularity.rename(columns={'quantity': 'n_sold'}, inplace=True)\n",
    "    top = popularity.sort_values('n_sold', ascending=False).head(5100).item_id.tolist()\n",
    "    #добавим, чтобы не потерять юзеров\n",
    "    data_train.loc[~data_train['item_id'].isin(top), 'item_id'] = 999999 \n",
    "    \n",
    "    # Уберем самые популярные \n",
    "    data_train.loc[data_train['item_id'].isin(top[:100]), 'item_id'] = 999999 \n",
    "    \n",
    "    # Уберем самые непопулряные \n",
    "    # не совсем понял, уберем самые неполпулярные из популярных? Разделить вне топ-5000 от хвоста топ-5000?\n",
    "    \n",
    "    # Уберем товары, которые не продавались за последние 12 месяцев\n",
    "    timeline = data_train['week_no'].max() - 54\n",
    "    date_filter = data_train['item_id'].loc[data_train['week_no'] >= timeline].unique()\n",
    "    data_train = data_train.loc[~data_train['item_id'].isin(date_filter), 'item_id'].shape\n",
    "    # Уберем не интересные для рекоммендаций категории (department)\n",
    "    departments_filter = item_features.loc[~item_features['department'].isin(departpments_), 'item_id'].unique()\n",
    "    data_train = data_train.loc[~data_train['item_id'].isin(deps_filter)]\n",
    "    \n",
    "    # Уберем слишком дешевые товары (на них не заработаем). 1 покупка из рассылок стоит 60 руб. \n",
    "    data_train = data_train[data_train.sales_value > 1.5]\n",
    "    \n",
    "    # Уберем слишком дорогие товарыs\n",
    "    price_filter = data_train['sales_value'].quantile(0.90)\n",
    "    data_train = data_train[data_train.sales_value < price_filter]\n",
    "    # ...\n",
    "    \n",
    "    return data_train"
   ]
  },
  {
   "cell_type": "markdown",
   "metadata": {},
   "source": [
    "## 4. Создайте модуль src.recommenders.py. Напишите код для класса ниже и положите его в src.recommenders.py  \n",
    "## get_similar_items_recommendation и get_similar_users_recommendation - реализуйте их, как делалось на вебинаре"
   ]
  },
  {
   "cell_type": "code",
   "execution_count": null,
   "metadata": {},
   "outputs": [],
   "source": [
    "# def prefilter_items(data_train, item_features, departpments_):\n",
    "#     # Оставим только 5000 самых популярных товаров\n",
    "#     popularity = data_train.groupby('item_id')['quantity'].sum().reset_index()\n",
    "#     popularity.rename(columns={'quantity': 'n_sold'}, inplace=True)\n",
    "#     top = popularity.sort_values('n_sold', ascending=False).head(5100).item_id.tolist()\n",
    "#     #добавим, чтобы не потерять юзеров\n",
    "#     data_train.loc[~data_train['item_id'].isin(top), 'item_id'] = 999999 \n",
    "    \n",
    "#     # Уберем самые популярные \n",
    "#     data_train.loc[data_train['item_id'].isin(top[:100]), 'item_id'] = 999999 \n",
    "    \n",
    "#     # Уберем самые непопулряные \n",
    "#     # не совсем понял, уберем самые неполпулярные из популярных? Разделить вне топ-5000 от хвоста топ-5000?\n",
    "    \n",
    "#     # Уберем товары, которые не продавались за последние 12 месяцев\n",
    "#     timeline = data_train['week_no'].max() - 54\n",
    "#     date_filter = data_train['item_id'].loc[data_train['week_no'] >= timeline].unique()\n",
    "#     data_train = data_train.loc[data_train['item_id'].isin(date_filter)]\n",
    "    \n",
    "#     # Уберем не интересные для рекоммендаций категории (department)\n",
    "    \n",
    "    \n",
    "#     departments_filter = item_features.loc[~item_features['department'].isin(departpments_), 'item_id'].unique()\n",
    "#     data_train = data_train.loc[~data_train['item_id'].isin(departments_filter)]\n",
    "    \n",
    "     \n",
    "#     # Уберем слишком дешевые товары (на них не заработаем). 1 покупка из рассылок стоит 60 руб. \n",
    "#     data_train = data_train[data_train.sales_value > 1.5]\n",
    "    \n",
    "#     # Уберем слишком дорогие товарыs\n",
    "#     price_filter = data_train['sales_value'].quantile(0.90)\n",
    "#     data_train = data_train[data_train.sales_value < price_filter]\n",
    "#     # ...\n",
    "    \n",
    "#     return data_train"
   ]
  },
  {
   "cell_type": "markdown",
   "metadata": {},
   "source": [
    "## 5. Проверьте, что все модули корректно импортируются"
   ]
  },
  {
   "cell_type": "code",
   "execution_count": 2,
   "metadata": {},
   "outputs": [],
   "source": [
    "import pandas as pd\n",
    "import numpy as np"
   ]
  },
  {
   "cell_type": "code",
   "execution_count": 3,
   "metadata": {},
   "outputs": [
    {
     "data": {
      "text/html": [
       "<div>\n",
       "<style scoped>\n",
       "    .dataframe tbody tr th:only-of-type {\n",
       "        vertical-align: middle;\n",
       "    }\n",
       "\n",
       "    .dataframe tbody tr th {\n",
       "        vertical-align: top;\n",
       "    }\n",
       "\n",
       "    .dataframe thead th {\n",
       "        text-align: right;\n",
       "    }\n",
       "</style>\n",
       "<table border=\"1\" class=\"dataframe\">\n",
       "  <thead>\n",
       "    <tr style=\"text-align: right;\">\n",
       "      <th></th>\n",
       "      <th>user_id</th>\n",
       "      <th>basket_id</th>\n",
       "      <th>day</th>\n",
       "      <th>item_id</th>\n",
       "      <th>quantity</th>\n",
       "      <th>sales_value</th>\n",
       "      <th>store_id</th>\n",
       "      <th>retail_disc</th>\n",
       "      <th>trans_time</th>\n",
       "      <th>week_no</th>\n",
       "      <th>coupon_disc</th>\n",
       "      <th>coupon_match_disc</th>\n",
       "    </tr>\n",
       "  </thead>\n",
       "  <tbody>\n",
       "    <tr>\n",
       "      <th>0</th>\n",
       "      <td>2375</td>\n",
       "      <td>26984851472</td>\n",
       "      <td>1</td>\n",
       "      <td>1004906</td>\n",
       "      <td>1</td>\n",
       "      <td>1.39</td>\n",
       "      <td>364</td>\n",
       "      <td>-0.6</td>\n",
       "      <td>1631</td>\n",
       "      <td>1</td>\n",
       "      <td>0.0</td>\n",
       "      <td>0.0</td>\n",
       "    </tr>\n",
       "    <tr>\n",
       "      <th>1</th>\n",
       "      <td>2375</td>\n",
       "      <td>26984851472</td>\n",
       "      <td>1</td>\n",
       "      <td>1033142</td>\n",
       "      <td>1</td>\n",
       "      <td>0.82</td>\n",
       "      <td>364</td>\n",
       "      <td>0.0</td>\n",
       "      <td>1631</td>\n",
       "      <td>1</td>\n",
       "      <td>0.0</td>\n",
       "      <td>0.0</td>\n",
       "    </tr>\n",
       "  </tbody>\n",
       "</table>\n",
       "</div>"
      ],
      "text/plain": [
       "   user_id    basket_id  day  item_id  quantity  sales_value  store_id  \\\n",
       "0     2375  26984851472    1  1004906         1         1.39       364   \n",
       "1     2375  26984851472    1  1033142         1         0.82       364   \n",
       "\n",
       "   retail_disc  trans_time  week_no  coupon_disc  coupon_match_disc  \n",
       "0         -0.6        1631        1          0.0                0.0  \n",
       "1          0.0        1631        1          0.0                0.0  "
      ]
     },
     "execution_count": 3,
     "metadata": {},
     "output_type": "execute_result"
    }
   ],
   "source": [
    "data = pd.read_csv('retail_train.csv')\n",
    "\n",
    "data.columns = [col.lower() for col in data.columns]\n",
    "data.rename(columns={'household_key': 'user_id',\n",
    "                    'product_id': 'item_id'},\n",
    "           inplace=True)\n",
    "\n",
    "\n",
    "test_size_weeks = 3\n",
    "\n",
    "data_train = data[data['week_no'] < data['week_no'].max() - test_size_weeks]\n",
    "data_test = data[data['week_no'] >= data['week_no'].max() - test_size_weeks]\n",
    "\n",
    "data_train.head(2)"
   ]
  },
  {
   "cell_type": "code",
   "execution_count": 4,
   "metadata": {},
   "outputs": [
    {
     "data": {
      "text/html": [
       "<div>\n",
       "<style scoped>\n",
       "    .dataframe tbody tr th:only-of-type {\n",
       "        vertical-align: middle;\n",
       "    }\n",
       "\n",
       "    .dataframe tbody tr th {\n",
       "        vertical-align: top;\n",
       "    }\n",
       "\n",
       "    .dataframe thead th {\n",
       "        text-align: right;\n",
       "    }\n",
       "</style>\n",
       "<table border=\"1\" class=\"dataframe\">\n",
       "  <thead>\n",
       "    <tr style=\"text-align: right;\">\n",
       "      <th></th>\n",
       "      <th>item_id</th>\n",
       "      <th>manufacturer</th>\n",
       "      <th>department</th>\n",
       "      <th>brand</th>\n",
       "      <th>commodity_desc</th>\n",
       "      <th>sub_commodity_desc</th>\n",
       "      <th>curr_size_of_product</th>\n",
       "    </tr>\n",
       "  </thead>\n",
       "  <tbody>\n",
       "    <tr>\n",
       "      <th>0</th>\n",
       "      <td>25671</td>\n",
       "      <td>2</td>\n",
       "      <td>GROCERY</td>\n",
       "      <td>National</td>\n",
       "      <td>FRZN ICE</td>\n",
       "      <td>ICE - CRUSHED/CUBED</td>\n",
       "      <td>22 LB</td>\n",
       "    </tr>\n",
       "    <tr>\n",
       "      <th>1</th>\n",
       "      <td>26081</td>\n",
       "      <td>2</td>\n",
       "      <td>MISC. TRANS.</td>\n",
       "      <td>National</td>\n",
       "      <td>NO COMMODITY DESCRIPTION</td>\n",
       "      <td>NO SUBCOMMODITY DESCRIPTION</td>\n",
       "      <td></td>\n",
       "    </tr>\n",
       "  </tbody>\n",
       "</table>\n",
       "</div>"
      ],
      "text/plain": [
       "   item_id  manufacturer    department     brand            commodity_desc  \\\n",
       "0    25671             2       GROCERY  National                  FRZN ICE   \n",
       "1    26081             2  MISC. TRANS.  National  NO COMMODITY DESCRIPTION   \n",
       "\n",
       "            sub_commodity_desc curr_size_of_product  \n",
       "0          ICE - CRUSHED/CUBED                22 LB  \n",
       "1  NO SUBCOMMODITY DESCRIPTION                       "
      ]
     },
     "execution_count": 4,
     "metadata": {},
     "output_type": "execute_result"
    }
   ],
   "source": [
    "item_features = pd.read_csv('product.csv')\n",
    "item_features.columns = [col.lower() for col in item_features.columns]\n",
    "item_features.rename(columns={'product_id': 'item_id'}, inplace=True)\n",
    "\n",
    "item_features.head(2)"
   ]
  },
  {
   "cell_type": "code",
   "execution_count": 5,
   "metadata": {},
   "outputs": [],
   "source": [
    "from src.recommenders import MainRecommender\n",
    "from src.utils import prefilter_items\n",
    "from src.metrics import precision_at_k"
   ]
  },
  {
   "cell_type": "code",
   "execution_count": 6,
   "metadata": {},
   "outputs": [],
   "source": [
    "deps_to_drop = ['PASTRY', 'GROCERY']"
   ]
  },
  {
   "cell_type": "code",
   "execution_count": 7,
   "metadata": {},
   "outputs": [
    {
     "name": "stderr",
     "output_type": "stream",
     "text": [
      "C:\\Users\\Pavel\\Anaconda3\\lib\\site-packages\\pandas\\core\\indexing.py:1765: SettingWithCopyWarning: \n",
      "A value is trying to be set on a copy of a slice from a DataFrame.\n",
      "Try using .loc[row_indexer,col_indexer] = value instead\n",
      "\n",
      "See the caveats in the documentation: https://pandas.pydata.org/pandas-docs/stable/user_guide/indexing.html#returning-a-view-versus-a-copy\n",
      "  isetter(loc, value)\n"
     ]
    }
   ],
   "source": [
    "data_prefilter = prefilter_items(data_train, item_features, deps_to_drop)"
   ]
  },
  {
   "cell_type": "code",
   "execution_count": 8,
   "metadata": {},
   "outputs": [],
   "source": [
    "#model = MainRecommender(data_prefilter)"
   ]
  },
  {
   "cell_type": "code",
   "execution_count": 9,
   "metadata": {},
   "outputs": [],
   "source": [
    "# import pandas as pd\n",
    "# import numpy as np\n",
    "\n",
    "# # Для работы с матрицами\n",
    "# from scipy.sparse import csr_matrix\n",
    "\n",
    "# # Матричная факторизация\n",
    "# from implicit.als import AlternatingLeastSquares\n",
    "# from implicit.nearest_neighbours import ItemItemRecommender  # нужен для одного трюка\n",
    "# from implicit.nearest_neighbours import bm25_weight, tfidf_weight\n",
    "\n",
    "\n",
    "# class MainRecommender:\n",
    "#     \"\"\"Рекоммендации, которые можно получить из ALS\n",
    "#     Input\n",
    "#     -----\n",
    "#     user_item_matrix: pd.DataFrame\n",
    "#         Матрица взаимодействий user-item\n",
    "#     \"\"\"\n",
    "    \n",
    "#     def __init__(self, data, weighting=True):\n",
    "        \n",
    "#         #your_code. Это не обязательная часть. Но если вам удобно что-либо посчитать тут - можно это сделать\n",
    "#         self.popularity = data.groupby(['user_id','item_id'])['quantity'].count().reset_index()\n",
    "#         self.popularity.sort_values('quantity', ascending=False, inplace=True)\n",
    "            \n",
    "#         self.user_item_matrix = self.prepare_matrix(data)  # pd.DataFrame\n",
    "#         self.id_to_itemid, self.id_to_userid,\\\n",
    "#             self.itemid_to_id, self.userid_to_id = self.prepare_dicts(self.user_item_matrix)\n",
    "        \n",
    "#         if weighting:\n",
    "#             self.user_item_matrix = bm25_weight(self.user_item_matrix.T).T \n",
    "        \n",
    "#         self.model = self.fit(self.user_item_matrix)\n",
    "#         self.own_recommender = self.fit_own_recommender(self.user_item_matrix)\n",
    "     \n",
    "#     @staticmethod\n",
    "#     def prepare_matrix(data):\n",
    "#         user_item_matrix = pd.pivot_table(data, \n",
    "#                                   index='user_id', columns='item_id', \n",
    "#                                   values='quantity', # Можно пробоват ьдругие варианты\n",
    "#                                   aggfunc='count', \n",
    "#                                   fill_value=0\n",
    "#                                  )\n",
    "\n",
    "#         user_item_matrix = user_item_matrix.astype(float)\n",
    "        \n",
    "#         return user_item_matrix\n",
    "    \n",
    "#     @staticmethod\n",
    "#     def prepare_dicts(user_item_matrix):\n",
    "#         \"\"\"Подготавливает вспомогательные словари\"\"\"\n",
    "\n",
    "#         userids = user_item_matrix.index.values\n",
    "#         itemids = user_item_matrix.columns.values\n",
    "\n",
    "#         matrix_userids = np.arange(len(userids))\n",
    "#         matrix_itemids = np.arange(len(itemids))\n",
    "\n",
    "#         id_to_itemid = dict(zip(matrix_itemids, itemids))\n",
    "#         id_to_userid = dict(zip(matrix_userids, userids))\n",
    "\n",
    "#         itemid_to_id = dict(zip(itemids, matrix_itemids))\n",
    "#         userid_to_id = dict(zip(userids, matrix_userids))\n",
    "\n",
    "#         return id_to_itemid, id_to_userid, itemid_to_id, userid_to_id\n",
    "     \n",
    "#     @staticmethod\n",
    "#     def fit_own_recommender(user_item_matrix):\n",
    "#         \"\"\"Обучает модель, которая рекомендует товары, среди товаров, купленных юзером\"\"\"\n",
    "    \n",
    "#         own_recommender = ItemItemRecommender(K=1, num_threads=4)\n",
    "#         own_recommender.fit(csr_matrix(user_item_matrix).T.tocsr())\n",
    "        \n",
    "#         return own_recommender\n",
    "    \n",
    "#     @staticmethod\n",
    "#     def fit(user_item_matrix, n_factors=20, regularization=0.001, iterations=15, num_threads=4):\n",
    "#         \"\"\"Обучает ALS\"\"\"\n",
    "        \n",
    "#         model = AlternatingLeastSquares(factors=n_factors, \n",
    "#                                              regularization=regularization,\n",
    "#                                              iterations=iterations,  \n",
    "#                                              num_threads=num_threads)\n",
    "#         model.fit(csr_matrix(user_item_matrix).T.tocsr())\n",
    "        \n",
    "#         return model\n",
    "    \n",
    " \n",
    "#     def get_rec(self, x):\n",
    "#         recs = self.model.similar_items(self.itemid_to_id[x], N=2)\n",
    "#         top_rec = recs[1][0]\n",
    "#         return self.id_to_itemid[top_rec]\n",
    "\n",
    "#     def get_similar_items_recommendation(self, user, N=5):\n",
    "        \n",
    "#         top_n = self.popularity[self.popularity['user_id']==user]\n",
    "               \n",
    "#         top_n = top_n.head(N)\n",
    "        \n",
    "#         top_n['similar_item'] = top_n['item_id'].apply(lambda x: self.get_rec(x))\n",
    "#         #print(top_n)\n",
    "#         res = top_n['similar_item']\n",
    "    \n",
    "        \n",
    "#         #assert len(res) == N, 'Количество рекомендаций != {}'.format(N)\n",
    "#         return list(res)\n",
    "    \n",
    "#     def get_similar_users_recommendation(self, user, N=5):\n",
    "#         \"\"\"Рекомендуем топ-N товаров, среди купленных похожими юзерами\"\"\"\n",
    "#         sparse_user_item=csr_matrix(self.user_item_matrix).T.tocsr()\n",
    "        \n",
    "#         res = [self.id_to_itemid[rec[0]] for rec in \n",
    "#                     self.model.recommend(userid=self.userid_to_id[user], \n",
    "#                                     user_items=sparse_user_item,   # на вход user-item matrix\n",
    "#                                     N=N, \n",
    "#                                     filter_already_liked_items=False, \n",
    "#                                     #filter_items=[itemid_to_id[999999]],  # !!! \n",
    "#                                     recalculate_user=True)]\n",
    "        \n",
    "    \n",
    "#         # your_code\n",
    "\n",
    "#         assert len(res) == N, 'Количество рекомендаций != {}'.format(N)\n",
    "#         return res"
   ]
  },
  {
   "cell_type": "code",
   "execution_count": 10,
   "metadata": {},
   "outputs": [
    {
     "name": "stderr",
     "output_type": "stream",
     "text": [
      "WARNING:root:Intel MKL BLAS detected. Its highly recommend to set the environment variable 'export MKL_NUM_THREADS=1' to disable its internal multithreading\n"
     ]
    },
    {
     "data": {
      "application/vnd.jupyter.widget-view+json": {
       "model_id": "bb0bf0da316044d3bb753f012dc22abf",
       "version_major": 2,
       "version_minor": 0
      },
      "text/plain": [
       "HBox(children=(HTML(value=''), FloatProgress(value=0.0, max=15.0), HTML(value='')))"
      ]
     },
     "metadata": {},
     "output_type": "display_data"
    },
    {
     "name": "stdout",
     "output_type": "stream",
     "text": [
      "\n"
     ]
    },
    {
     "data": {
      "application/vnd.jupyter.widget-view+json": {
       "model_id": "46df4dd98bf54e92a8ac87a94cdcd0e5",
       "version_major": 2,
       "version_minor": 0
      },
      "text/plain": [
       "HBox(children=(HTML(value=''), FloatProgress(value=0.0, max=3690.0), HTML(value='')))"
      ]
     },
     "metadata": {},
     "output_type": "display_data"
    },
    {
     "name": "stdout",
     "output_type": "stream",
     "text": [
      "\n"
     ]
    }
   ],
   "source": [
    "model = MainRecommender(data_prefilter)"
   ]
  },
  {
   "cell_type": "code",
   "execution_count": 11,
   "metadata": {},
   "outputs": [
    {
     "data": {
      "text/plain": [
       "[1076056, 9526411, 978354, 8020234, 1070497]"
      ]
     },
     "execution_count": 11,
     "metadata": {},
     "output_type": "execute_result"
    }
   ],
   "source": [
    "model.get_similar_items_recommendation(2375)"
   ]
  },
  {
   "cell_type": "code",
   "execution_count": 12,
   "metadata": {},
   "outputs": [
    {
     "data": {
      "text/plain": [
       "[1080884, 936634, 918733, 902192, 1128647]"
      ]
     },
     "execution_count": 12,
     "metadata": {},
     "output_type": "execute_result"
    }
   ],
   "source": [
    "model.get_similar_users_recommendation(2375)"
   ]
  },
  {
   "cell_type": "code",
   "execution_count": null,
   "metadata": {},
   "outputs": [],
   "source": []
  }
 ],
 "metadata": {
  "kernelspec": {
   "display_name": "Python 3",
   "language": "python",
   "name": "python3"
  },
  "language_info": {
   "codemirror_mode": {
    "name": "ipython",
    "version": 3
   },
   "file_extension": ".py",
   "mimetype": "text/x-python",
   "name": "python",
   "nbconvert_exporter": "python",
   "pygments_lexer": "ipython3",
   "version": "3.7.3"
  }
 },
 "nbformat": 4,
 "nbformat_minor": 4
}
