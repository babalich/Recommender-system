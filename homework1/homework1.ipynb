{
 "cells": [
  {
   "cell_type": "markdown",
   "metadata": {},
   "source": [
    "### 1) Сравните метрики hit_rate@k, precision@k. Какую матрику использовать предпочтительно и почему. Привидите пример 2-3 задач (опишите, что является клиентом, что товаром), в которой более уместно использовать метрику hit_rate?"
   ]
  },
  {
   "cell_type": "markdown",
   "metadata": {},
   "source": [
    "Предпочтительней использовать метрику precision@k, поскольку она дает нам точное представление о доле релевантных рекомендаций, в то время как hit_rate@k просто показывает наличие или отсутствие таковых."
   ]
  },
  {
   "cell_type": "markdown",
   "metadata": {},
   "source": [
    "<b> Примеры, где можно использовать hit_rate <br> </b>\n",
    "Пример 1. Онлайн-кинотеатр <br>\n",
    "Пользователь - зритель, товар - фильм. Когда пользователь заходит в сервис, нам нужно удержать его еще на один фильм, здесь и сейчас. <br>\n",
    "Пример 2. Предложение однотипных дополнительных товаров к исходной покупке. <br>\n",
    "Пользователь - покупка, товар - товар. Если человек покупает игровую мышку, то мы рекомендуем ему несколько игровых ковриков, и нас утроит что он купит только один. <br>\n",
    "Пример 3. Любые магазины, ориентированные на подарочные товары (игрушки, ювелирка и т.д.) <br>\n",
    "Пользователь - покупатель, товар - товар. Задача рекомендательной системы в том, чтобы помочь клиенту выбрать подарок и не отпустить его в более удобный магазин."
   ]
  },
  {
   "cell_type": "markdown",
   "metadata": {},
   "source": [
    "### 2)В метрике NDCG@k мы используем логарифм в знаменателе. Как Вы думаете, почему именно логарифм? Какую функцию можно использовать вместо логарифма? Привидите пример метрик/подходов к предобработке данных/функций ошибок в ML, где также в знаменателе присутствует логарифм."
   ]
  },
  {
   "cell_type": "markdown",
   "metadata": {},
   "source": [
    "Мы используем логарфим, потому что его функция возрастает более плавно и со временем скорость возрастания падает (в отличии от y=x). Таким образом, мы сдерживаем рост знаменателя. Можем использовать $$y= \\sqrt x$$\n"
   ]
  },
  {
   "cell_type": "markdown",
   "metadata": {},
   "source": [
    "### 3)Какие еще матрики (Вы можете вспомнить уже пройденные Вами или посмотреть в интернете) могут использоваться для рекомендательных систем (приведите примеры метрики и чем являются интеракции, чтобы она могла быть использована)"
   ]
  },
  {
   "cell_type": "markdown",
   "metadata": {},
   "source": [
    "### 4) Посчитайте на этих данных pr@8, rec@8, AP@8, NDCG@8, RR@8, ERR@8"
   ]
  },
  {
   "cell_type": "code",
   "execution_count": 4,
   "metadata": {},
   "outputs": [],
   "source": [
    "import numpy as np\n",
    "boughted = [1, 3, 5, 7, 9, 11]\n",
    "recommended = [2, 5, 7, 4, 11, 9, 8, 10, 12, 3]"
   ]
  },
  {
   "cell_type": "markdown",
   "metadata": {},
   "source": [
    "#### pr@8"
   ]
  },
  {
   "cell_type": "code",
   "execution_count": 5,
   "metadata": {},
   "outputs": [],
   "source": [
    "def pr_at_k(boughted, recommended, k): #pr@k\n",
    "    boughted_list = boughted\n",
    "    recommended_list = recommended[:k]\n",
    "    flags = np.isin(boughted_list, recommended_list)\n",
    "    \n",
    "    pr = flags.sum() / len(recommended_list)\n",
    "    \n",
    "    return pr\n",
    "    "
   ]
  },
  {
   "cell_type": "code",
   "execution_count": 6,
   "metadata": {},
   "outputs": [
    {
     "data": {
      "text/plain": [
       "0.5"
      ]
     },
     "execution_count": 6,
     "metadata": {},
     "output_type": "execute_result"
    }
   ],
   "source": [
    "pr_at_k(boughted, recommended, k=8)"
   ]
  },
  {
   "cell_type": "markdown",
   "metadata": {},
   "source": [
    "#### rec@8"
   ]
  },
  {
   "cell_type": "code",
   "execution_count": 7,
   "metadata": {},
   "outputs": [],
   "source": [
    "def rec_at_k(boughted, recommended, k): #rec@k\n",
    "    boughted_list = boughted\n",
    "    recommended_list = recommended[:k]\n",
    "    flags = np.isin(boughted_list, recommended_list)\n",
    "    rec = flags.sum() / len(boughted_list)\n",
    "    \n",
    "    return rec"
   ]
  },
  {
   "cell_type": "code",
   "execution_count": 8,
   "metadata": {},
   "outputs": [
    {
     "data": {
      "text/plain": [
       "0.6666666666666666"
      ]
     },
     "execution_count": 8,
     "metadata": {},
     "output_type": "execute_result"
    }
   ],
   "source": [
    "rec_at_k(boughted, recommended, k=8)"
   ]
  },
  {
   "cell_type": "markdown",
   "metadata": {},
   "source": [
    "#### AP@8"
   ]
  },
  {
   "cell_type": "code",
   "execution_count": 49,
   "metadata": {},
   "outputs": [],
   "source": [
    "def ap_at_k(boughted, recommended, k): #ap@k\n",
    "    boughted_list = boughted\n",
    "    recommended_list = recommended\n",
    "    flags = np.isin(recommended_list, boughted_list)\n",
    "    \n",
    "    if sum(flags) == 0:\n",
    "        return 0\n",
    "    \n",
    "    k = sum(flags)\n",
    "    sum_ = 0\n",
    "    \n",
    "    for i in range(1, k+1):\n",
    "        if flags[i] == True:\n",
    "            sum_ += pr_at_k(boughted_list, recommended_list, k=i)\n",
    "    \n",
    "    result = sum_ / sum(flags)\n",
    "    \n",
    "    return result\n",
    "            "
   ]
  },
  {
   "cell_type": "code",
   "execution_count": 41,
   "metadata": {},
   "outputs": [
    {
     "data": {
      "text/plain": [
       "0.32"
      ]
     },
     "execution_count": 41,
     "metadata": {},
     "output_type": "execute_result"
    }
   ],
   "source": [
    "ap_at_k(boughted, recommended, k=8)"
   ]
  },
  {
   "cell_type": "markdown",
   "metadata": {},
   "source": [
    "#### NDCG@8"
   ]
  },
  {
   "cell_type": "code",
   "execution_count": 58,
   "metadata": {},
   "outputs": [],
   "source": [
    "def dcg(flags):\n",
    "    result = flags[0]/1\n",
    "    k = len(flags)\n",
    "    \n",
    "    for i in range(1, k):\n",
    "        result += flags[i]/np.log(i+1)\n",
    "    \n",
    "    return result/k"
   ]
  },
  {
   "cell_type": "code",
   "execution_count": 64,
   "metadata": {},
   "outputs": [],
   "source": [
    "def ndcg_a_k(boughted, recommended, k): \n",
    "    boughted_list = boughted\n",
    "    recommended_list = recommended[:k]\n",
    "    flags = np.isin(recommended_list, boughted_list)\n",
    "    len_ = len(recommended_list)\n",
    "    \n",
    "    dcg_ = dcg(flags)\n",
    "    idcg = dcg(np.ones(len_))\n",
    "    \n",
    "    return dcg_ / idcg\n",
    "    \n",
    "    "
   ]
  },
  {
   "cell_type": "code",
   "execution_count": 71,
   "metadata": {},
   "outputs": [
    {
     "data": {
      "text/plain": [
       "0.5653142737255068"
      ]
     },
     "execution_count": 71,
     "metadata": {},
     "output_type": "execute_result"
    }
   ],
   "source": [
    "ndcg_a_k(boughted, recommended, k=8)"
   ]
  },
  {
   "cell_type": "markdown",
   "metadata": {},
   "source": [
    "#### RR@8"
   ]
  },
  {
   "cell_type": "code",
   "execution_count": 108,
   "metadata": {},
   "outputs": [],
   "source": [
    "def rec_r(boughted, rec_item):\n",
    "    rank = 0\n",
    "    for i, item_bought in enumerate(boughted):\n",
    "        if rec_item == item_bought:\n",
    "            return 1/(i+1)\n",
    "            #rank = 1/(i+1)\n",
    "    return rank\n",
    "\n",
    "def mrr_at_k(boughted, recommended, k): \n",
    "    boughted_list = boughted\n",
    "    recommended_list = recommended[:k]\n",
    "    \n",
    "    global_rank = 0\n",
    "    for item in recommended_list:\n",
    "        global_rank += rec_r(boughted_list, item)\n",
    "    \n",
    "    return global_rank / len(recommended_list)"
   ]
  },
  {
   "cell_type": "code",
   "execution_count": 112,
   "metadata": {},
   "outputs": [
    {
     "data": {
      "text/plain": [
       "0.11875"
      ]
     },
     "execution_count": 112,
     "metadata": {},
     "output_type": "execute_result"
    }
   ],
   "source": [
    "mrr_at_k(boughted, recommended, k=8)"
   ]
  },
  {
   "cell_type": "code",
   "execution_count": null,
   "metadata": {},
   "outputs": [],
   "source": []
  },
  {
   "cell_type": "code",
   "execution_count": null,
   "metadata": {},
   "outputs": [],
   "source": []
  },
  {
   "cell_type": "code",
   "execution_count": null,
   "metadata": {},
   "outputs": [],
   "source": []
  }
 ],
 "metadata": {
  "kernelspec": {
   "display_name": "Python 3",
   "language": "python",
   "name": "python3"
  },
  "language_info": {
   "codemirror_mode": {
    "name": "ipython",
    "version": 3
   },
   "file_extension": ".py",
   "mimetype": "text/x-python",
   "name": "python",
   "nbconvert_exporter": "python",
   "pygments_lexer": "ipython3",
   "version": "3.7.3"
  }
 },
 "nbformat": 4,
 "nbformat_minor": 4
}
