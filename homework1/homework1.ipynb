{
 "cells": [
  {
   "cell_type": "markdown",
   "metadata": {},
   "source": [
    "### 1) Сравните метрики hit_rate@k, precision@k. Какую матрику использовать предпочтительно и почему. Привидите пример 2-3 задач (опишите, что является клиентом, что товаром), в которой более уместно использовать метрику hit_rate?"
   ]
  },
  {
   "cell_type": "markdown",
   "metadata": {},
   "source": [
    "Предпочтительней использовать метрику precision@k, поскольку она дает нам точное представление о доле релевантных рекомендаций, в то время как hit_rate@k просто показывает наличие или отсутствие таковых."
   ]
  },
  {
   "cell_type": "markdown",
   "metadata": {},
   "source": [
    "<b> Примеры, где можно использовать hit_rate <br> </b>\n",
    "Пример 1. Онлайн-кинотеатр <br>\n",
    "Пользователь - зритель, товар - фильм. Когда пользователь заходит в сервис, нам нужно удержать его еще на один фильм, здесь и сейчас. <br>\n",
    "Пример 2. Предложение однотипных дополнительных товаров к исходной покупке. <br>\n",
    "Пользователь - покупка, товар - товар. Если человек покупает игровую мышку, то мы рекомендуем ему несколько игровых ковриков, и нас утроит что он купит только один. <br>\n",
    "Пример 3. Любые магазины, ориентированные на подарочные товары (игрушки, ювелирка и т.д.) <br>\n",
    "Пользователь - покупатель, товар - товар. Задача рекомендательной системы в том, чтобы помочь клиенту выбрать подарок и не отпустить его в более удобный магазин."
   ]
  },
  {
   "cell_type": "markdown",
   "metadata": {},
   "source": [
    "### 2)В метрике NDCG@k мы используем логарифм в знаменателе. Как Вы думаете, почему именно логарифм? Какую функцию можно использовать вместо логарифма? Привидите пример метрик/подходов к предобработке данных/функций ошибок в ML, где также в знаменателе присутствует логарифм."
   ]
  },
  {
   "cell_type": "markdown",
   "metadata": {},
   "source": [
    "Мы используем логарфим, потому что его функция возрастает более плавно и со временем скорость возрастания падает (в отличии от y=x). Таким образом, мы сдерживаем рост знаменателя. Можем использовать $$y= \\sqrt x$$ <br>\n",
    "На вторую часть вопроса затрудняюсь ответить, не смог бегло нагуглить"
   ]
  },
  {
   "cell_type": "markdown",
   "metadata": {},
   "source": [
    "### 3)Какие еще матрики (Вы можете вспомнить уже пройденные Вами или посмотреть в интернете) могут использоваться для рекомендательных систем (приведите примеры метрики и чем являются интеракции, чтобы она могла быть использована)"
   ]
  },
  {
   "cell_type": "markdown",
   "metadata": {},
   "source": [
    "Из метрик, не освященных на уроке, можно выделить Serendipity like(Diversity, Novelty, Unexpectedness) <br>\n",
    "(источник: https://towardsdatascience.com/serendipity-accuracys-unpopular-best-friend-in-recommender-systems-ca079b493f3c) <br>\n",
    "применяются для того, что пользователю разнообразить рекомендации для пользователя и представить ассортимент товаров более широко.\n"
   ]
  },
  {
   "cell_type": "markdown",
   "metadata": {},
   "source": [
    "Остальные метрики можно услово разделить на следующие категории: <br>\n",
    "1) Метрики основанные на матрице ошибок (confusion matrix) для бинарной оценки (понравилась пользователю рекомендация или нет <br>\n",
    "2) Непрерывные метрики (MSE MAE и т.д.) <br>\n",
    "3) Метрики ранжирования, если нам важен порядок рекомендаций."
   ]
  },
  {
   "cell_type": "markdown",
   "metadata": {},
   "source": [
    "### 4) Посчитайте на этих данных pr@8, rec@8, AP@8, NDCG@8, RR@8, ERR@8"
   ]
  },
  {
   "cell_type": "code",
   "execution_count": 1,
   "metadata": {},
   "outputs": [],
   "source": [
    "import numpy as np\n",
    "boughted = [1, 3, 5, 7, 9, 11]\n",
    "recommended = [2, 5, 7, 4, 11, 9, 8, 10, 12, 3]"
   ]
  },
  {
   "cell_type": "markdown",
   "metadata": {},
   "source": [
    "#### pr@8"
   ]
  },
  {
   "cell_type": "code",
   "execution_count": 2,
   "metadata": {},
   "outputs": [],
   "source": [
    "def pr_at_k(boughted, recommended, k): #pr@k\n",
    "    boughted_list = boughted\n",
    "    recommended_list = recommended[:k]\n",
    "    flags = np.isin(boughted_list, recommended_list)\n",
    "    \n",
    "    pr = flags.sum() / len(recommended_list)\n",
    "    \n",
    "    return pr\n",
    "    "
   ]
  },
  {
   "cell_type": "code",
   "execution_count": 3,
   "metadata": {},
   "outputs": [
    {
     "data": {
      "text/plain": [
       "0.5"
      ]
     },
     "execution_count": 3,
     "metadata": {},
     "output_type": "execute_result"
    }
   ],
   "source": [
    "pr_at_k(boughted, recommended, k=8)"
   ]
  },
  {
   "cell_type": "markdown",
   "metadata": {},
   "source": [
    "#### rec@8"
   ]
  },
  {
   "cell_type": "code",
   "execution_count": 4,
   "metadata": {},
   "outputs": [],
   "source": [
    "def rec_at_k(boughted, recommended, k): #rec@k\n",
    "    boughted_list = boughted\n",
    "    recommended_list = recommended[:k]\n",
    "    flags = np.isin(boughted_list, recommended_list)\n",
    "    rec = flags.sum() / len(boughted_list)\n",
    "    \n",
    "    return rec"
   ]
  },
  {
   "cell_type": "code",
   "execution_count": 5,
   "metadata": {},
   "outputs": [
    {
     "data": {
      "text/plain": [
       "0.6666666666666666"
      ]
     },
     "execution_count": 5,
     "metadata": {},
     "output_type": "execute_result"
    }
   ],
   "source": [
    "rec_at_k(boughted, recommended, k=8)"
   ]
  },
  {
   "cell_type": "markdown",
   "metadata": {},
   "source": [
    "#### AP@8"
   ]
  },
  {
   "cell_type": "code",
   "execution_count": 6,
   "metadata": {},
   "outputs": [],
   "source": [
    "def ap_at_k(boughted, recommended, k): #ap@k\n",
    "    boughted_list = boughted\n",
    "    recommended_list = recommended\n",
    "    flags = np.isin(recommended_list, boughted_list)\n",
    "    \n",
    "    if sum(flags) == 0:\n",
    "        return 0\n",
    "    \n",
    "    k = sum(flags)\n",
    "    sum_ = 0\n",
    "    \n",
    "    for i in range(1, k+1):\n",
    "        if flags[i] == True:\n",
    "            sum_ += pr_at_k(boughted_list, recommended_list, k=i)\n",
    "    \n",
    "    result = sum_ / sum(flags)\n",
    "    \n",
    "    return result\n",
    "            "
   ]
  },
  {
   "cell_type": "code",
   "execution_count": 7,
   "metadata": {},
   "outputs": [
    {
     "data": {
      "text/plain": [
       "0.32"
      ]
     },
     "execution_count": 7,
     "metadata": {},
     "output_type": "execute_result"
    }
   ],
   "source": [
    "ap_at_k(boughted, recommended, k=8)"
   ]
  },
  {
   "cell_type": "markdown",
   "metadata": {},
   "source": [
    "#### NDCG@8"
   ]
  },
  {
   "cell_type": "code",
   "execution_count": 8,
   "metadata": {},
   "outputs": [],
   "source": [
    "def dcg(flags):\n",
    "    result = flags[0]/1\n",
    "    k = len(flags)\n",
    "    \n",
    "    for i in range(1, k):\n",
    "        result += flags[i]/np.log(i+1)\n",
    "    \n",
    "    return result/k"
   ]
  },
  {
   "cell_type": "code",
   "execution_count": 9,
   "metadata": {},
   "outputs": [],
   "source": [
    "def ndcg_a_k(boughted, recommended, k): \n",
    "    boughted_list = boughted\n",
    "    recommended_list = recommended[:k]\n",
    "    flags = np.isin(recommended_list, boughted_list)\n",
    "    len_ = len(recommended_list)\n",
    "    \n",
    "    dcg_ = dcg(flags)\n",
    "    idcg = dcg(np.ones(len_))\n",
    "    \n",
    "    return dcg_ / idcg\n",
    "    \n",
    "    "
   ]
  },
  {
   "cell_type": "code",
   "execution_count": 10,
   "metadata": {},
   "outputs": [
    {
     "data": {
      "text/plain": [
       "0.5653142737255068"
      ]
     },
     "execution_count": 10,
     "metadata": {},
     "output_type": "execute_result"
    }
   ],
   "source": [
    "ndcg_a_k(boughted, recommended, k=8)"
   ]
  },
  {
   "cell_type": "markdown",
   "metadata": {},
   "source": [
    "#### RR@8"
   ]
  },
  {
   "cell_type": "code",
   "execution_count": 11,
   "metadata": {},
   "outputs": [],
   "source": [
    "def rec_r(boughted, rec_item):\n",
    "    rank = 0\n",
    "    for i, item_bought in enumerate(boughted):\n",
    "        if rec_item == item_bought:\n",
    "            return 1/(i+1)\n",
    "            #rank = 1/(i+1)\n",
    "    return rank\n",
    "\n",
    "def mrr_at_k(boughted, recommended, k): \n",
    "    boughted_list = boughted\n",
    "    recommended_list = recommended[:k]\n",
    "    \n",
    "    global_rank = 0\n",
    "    for item in recommended_list:\n",
    "        global_rank += rec_r(boughted_list, item)\n",
    "    \n",
    "    return global_rank / len(recommended_list)"
   ]
  },
  {
   "cell_type": "code",
   "execution_count": 12,
   "metadata": {},
   "outputs": [
    {
     "data": {
      "text/plain": [
       "0.11875"
      ]
     },
     "execution_count": 12,
     "metadata": {},
     "output_type": "execute_result"
    }
   ],
   "source": [
    "mrr_at_k(boughted, recommended, k=8)"
   ]
  },
  {
   "cell_type": "markdown",
   "metadata": {},
   "source": [
    "#### ERR@8"
   ]
  },
  {
   "cell_type": "markdown",
   "metadata": {},
   "source": [
    "$$ERR@K = \\sum\\limits_{k=1}^K \\frac{1}{k} P(\\textrm{объект остановится на элемента с рангом $k$})$$ <br>\n",
    "$$P(\\textrm{объект остановится на элементе с рангом $k$}) = p_k \\prod\\limits_{i=1}^{k-1}(1-p_i),$$ <br>"
   ]
  },
  {
   "cell_type": "markdown",
   "metadata": {},
   "source": [
    "<img src=\"hw1.png\">"
   ]
  },
  {
   "cell_type": "code",
   "execution_count": 109,
   "metadata": {},
   "outputs": [],
   "source": [
    "def err_at_k(boughted, recommended, k):\n",
    "    boughted_list = boughted\n",
    "    recommended_list = recommended[:k]\n",
    "    flags = np.isin(recommended_list, boughted_list)\n",
    "    \n",
    "# высчитывать по общей формуле оказалось е нужно, так как наш r_true либо 0, либо 1. \n",
    "#     pk = np.zeros(k)\n",
    "#     for i in range(k):\n",
    "#         pk[i] = (2**flags[i] - 1) / (2**max(flags) - 1)\n",
    "    \n",
    "    Pk_ = np.zeros(k)\n",
    "    #Pk_[0] = flags[0]\n",
    "    #print(flags.astype(int))\n",
    "    for i in range(0, k):\n",
    "        prod = np.prod(1 - flags[0:i]) \n",
    "        print(i, prod, flags[0:i].astype(int))\n",
    "        Pk_[i] = flags[i] * prod / (i+1)\n",
    "        \n",
    "    print(Pk_)        \n",
    "\n",
    "    \n",
    "    return sum(Pk_)\n",
    "    "
   ]
  },
  {
   "cell_type": "code",
   "execution_count": 114,
   "metadata": {},
   "outputs": [
    {
     "name": "stdout",
     "output_type": "stream",
     "text": [
      "[0 1 1 0 1 1 0 0]\n",
      "0 1 []\n",
      "1 1 [0]\n",
      "2 0 [0 1]\n",
      "3 0 [0 1 1]\n",
      "4 0 [0 1 1 0]\n",
      "5 0 [0 1 1 0 1]\n",
      "6 0 [0 1 1 0 1 1]\n",
      "7 0 [0 1 1 0 1 1 0]\n",
      "[0.  0.5 0.  0.  0.  0.  0.  0. ]\n",
      "ERR@8 =  0.5\n"
     ]
    }
   ],
   "source": [
    "print('ERR@8 = ',err_at_k(boughted, recommended, k=8))"
   ]
  },
  {
   "cell_type": "markdown",
   "metadata": {},
   "source": [
    "Правильно ли я понял алгоритм расчета для примера [0 1 1 ]? <br>\n",
    "\n",
    "$$1) rank=\\frac{1}{1}, p_1 = 0, \\prod\\limits_{i=1}^{0}(1-p_i)$$ <br>\n",
    "$$2) rank=\\frac{1}{2}, p_2 = 1, \\prod\\limits_{i=1}^{1}(1-p_i) = 1.$$ <br>\n",
    "$$3) rank=\\frac{1}{3}, p_3 = 1, \\prod\\limits_{i=1}^{2}(1-p_i) = (1-0) * (1-1) = 0.$$ <br>\n",
    "Итого по формуле получаем сумму (0 + 1/2 + 0) = 0.5. <br>\n",
    "Если так, то, наверное, метрика больше подходит для случаев, где r_true может принимать значения не только 1 или 0"
   ]
  },
  {
   "cell_type": "code",
   "execution_count": null,
   "metadata": {},
   "outputs": [],
   "source": []
  }
 ],
 "metadata": {
  "kernelspec": {
   "display_name": "Python 3",
   "language": "python",
   "name": "python3"
  },
  "language_info": {
   "codemirror_mode": {
    "name": "ipython",
    "version": 3
   },
   "file_extension": ".py",
   "mimetype": "text/x-python",
   "name": "python",
   "nbconvert_exporter": "python",
   "pygments_lexer": "ipython3",
   "version": "3.7.3"
  }
 },
 "nbformat": 4,
 "nbformat_minor": 4
}
