{
 "cells": [
  {
   "cell_type": "markdown",
   "metadata": {},
   "source": [
    "# Вебинар 6. Двухуровневые модели рекомендаций\n"
   ]
  },
  {
   "cell_type": "markdown",
   "metadata": {},
   "source": [
    "Код для src, utils, metrics вы можете скачать из [этого](https://github.com/geangohn/recsys-tutorial) github репозитория"
   ]
  },
  {
   "cell_type": "code",
   "execution_count": 1,
   "metadata": {},
   "outputs": [],
   "source": [
    "import pandas as pd\n",
    "import numpy as np\n",
    "import matplotlib.pyplot as plt\n",
    "%matplotlib inline\n",
    "\n",
    "# Для работы с матрицами\n",
    "from scipy.sparse import csr_matrix\n",
    "\n",
    "# Матричная факторизация\n",
    "from implicit import als\n",
    "\n",
    "# Модель второго уровня\n",
    "from lightgbm import LGBMClassifier\n",
    "\n",
    "import os, sys\n",
    "module_path = os.path.abspath(os.path.join(os.pardir))\n",
    "if module_path not in sys.path:\n",
    "    sys.path.append(module_path)\n",
    "\n",
    "# Написанные нами функции\n",
    "from src.metrics import precision_at_k, recall_at_k\n",
    "from src.utils import prefilter_items\n",
    "from src.recommenders import MainRecommender"
   ]
  },
  {
   "cell_type": "code",
   "execution_count": 775,
   "metadata": {},
   "outputs": [
    {
     "data": {
      "text/html": [
       "<div>\n",
       "<style scoped>\n",
       "    .dataframe tbody tr th:only-of-type {\n",
       "        vertical-align: middle;\n",
       "    }\n",
       "\n",
       "    .dataframe tbody tr th {\n",
       "        vertical-align: top;\n",
       "    }\n",
       "\n",
       "    .dataframe thead th {\n",
       "        text-align: right;\n",
       "    }\n",
       "</style>\n",
       "<table border=\"1\" class=\"dataframe\">\n",
       "  <thead>\n",
       "    <tr style=\"text-align: right;\">\n",
       "      <th></th>\n",
       "      <th>user_id</th>\n",
       "      <th>basket_id</th>\n",
       "      <th>day</th>\n",
       "      <th>item_id</th>\n",
       "      <th>quantity</th>\n",
       "      <th>sales_value</th>\n",
       "      <th>store_id</th>\n",
       "      <th>retail_disc</th>\n",
       "      <th>trans_time</th>\n",
       "      <th>week_no</th>\n",
       "      <th>coupon_disc</th>\n",
       "      <th>coupon_match_disc</th>\n",
       "    </tr>\n",
       "  </thead>\n",
       "  <tbody>\n",
       "    <tr>\n",
       "      <th>0</th>\n",
       "      <td>2375</td>\n",
       "      <td>26984851472</td>\n",
       "      <td>1</td>\n",
       "      <td>1004906</td>\n",
       "      <td>1</td>\n",
       "      <td>1.39</td>\n",
       "      <td>364</td>\n",
       "      <td>-0.6</td>\n",
       "      <td>1631</td>\n",
       "      <td>1</td>\n",
       "      <td>0.0</td>\n",
       "      <td>0.0</td>\n",
       "    </tr>\n",
       "    <tr>\n",
       "      <th>1</th>\n",
       "      <td>2375</td>\n",
       "      <td>26984851472</td>\n",
       "      <td>1</td>\n",
       "      <td>1033142</td>\n",
       "      <td>1</td>\n",
       "      <td>0.82</td>\n",
       "      <td>364</td>\n",
       "      <td>0.0</td>\n",
       "      <td>1631</td>\n",
       "      <td>1</td>\n",
       "      <td>0.0</td>\n",
       "      <td>0.0</td>\n",
       "    </tr>\n",
       "  </tbody>\n",
       "</table>\n",
       "</div>"
      ],
      "text/plain": [
       "   user_id    basket_id  day  item_id  quantity  sales_value  store_id  \\\n",
       "0     2375  26984851472    1  1004906         1         1.39       364   \n",
       "1     2375  26984851472    1  1033142         1         0.82       364   \n",
       "\n",
       "   retail_disc  trans_time  week_no  coupon_disc  coupon_match_disc  \n",
       "0         -0.6        1631        1          0.0                0.0  \n",
       "1          0.0        1631        1          0.0                0.0  "
      ]
     },
     "execution_count": 775,
     "metadata": {},
     "output_type": "execute_result"
    }
   ],
   "source": [
    "data = pd.read_csv('retail_train.csv')\n",
    "item_features = pd.read_csv('product.csv')\n",
    "user_features = pd.read_csv('hh_demographic.csv')\n",
    "\n",
    "# column processing\n",
    "item_features.columns = [col.lower() for col in item_features.columns]\n",
    "user_features.columns = [col.lower() for col in user_features.columns]\n",
    "\n",
    "item_features.rename(columns={'product_id': 'item_id'}, inplace=True)\n",
    "user_features.rename(columns={'household_key': 'user_id'}, inplace=True)\n",
    "\n",
    "\n",
    "# Важна схема обучения и валидации!\n",
    "# -- давние покупки -- | -- 6 недель -- | -- 3 недель -- \n",
    "# подобрать размер 2-ого датасета (6 недель) --> learning curve (зависимость метрики recall@k от размера датасета)\n",
    "val_lvl_1_size_weeks = 6\n",
    "val_lvl_2_size_weeks = 3\n",
    "\n",
    "\n",
    "data_for_features = data[data['week_no'] < data['week_no'].max() - val_lvl_2_size_weeks]\n",
    "\n",
    "\n",
    "data_train_lvl_1 = data[data['week_no'] < data['week_no'].max() - (val_lvl_1_size_weeks + val_lvl_2_size_weeks)]\n",
    "data_val_lvl_1 = data[(data['week_no'] >= data['week_no'].max() - (val_lvl_1_size_weeks + val_lvl_2_size_weeks)) &\n",
    "                      (data['week_no'] < data['week_no'].max() - (val_lvl_2_size_weeks))]\n",
    "\n",
    "data_train_lvl_2 = data_val_lvl_1.copy()  # Для наглядности. Далее мы добавим изменения, и они будут отличаться\n",
    "data_val_lvl_2 = data[data['week_no'] >= data['week_no'].max() - val_lvl_2_size_weeks]\n",
    "\n",
    "data_train_lvl_1.head(2)"
   ]
  },
  {
   "cell_type": "code",
   "execution_count": 3,
   "metadata": {},
   "outputs": [
    {
     "name": "stderr",
     "output_type": "stream",
     "text": [
      "C:\\Users\\Pavel\\Anaconda3\\lib\\site-packages\\pandas\\core\\indexing.py:1765: SettingWithCopyWarning: \n",
      "A value is trying to be set on a copy of a slice from a DataFrame.\n",
      "Try using .loc[row_indexer,col_indexer] = value instead\n",
      "\n",
      "See the caveats in the documentation: https://pandas.pydata.org/pandas-docs/stable/user_guide/indexing.html#returning-a-view-versus-a-copy\n",
      "  isetter(loc, value)\n"
     ]
    },
    {
     "name": "stdout",
     "output_type": "stream",
     "text": [
      "Decreased # items from 83685 to 4918\n"
     ]
    }
   ],
   "source": [
    "n_items_before = data_train_lvl_1['item_id'].nunique()\n",
    "\n",
    "data_train_lvl_1 = prefilter_items(data_train_lvl_1, item_features=item_features)\n",
    "\n",
    "n_items_after = data_train_lvl_1['item_id'].nunique()\n",
    "print('Decreased # items from {} to {}'.format(n_items_before, n_items_after))"
   ]
  },
  {
   "cell_type": "code",
   "execution_count": 6,
   "metadata": {},
   "outputs": [
    {
     "name": "stderr",
     "output_type": "stream",
     "text": [
      "WARNING:root:Intel MKL BLAS detected. Its highly recommend to set the environment variable 'export MKL_NUM_THREADS=1' to disable its internal multithreading\n"
     ]
    },
    {
     "data": {
      "application/vnd.jupyter.widget-view+json": {
       "model_id": "daeacbabca9a468b8df3d980c3dc7250",
       "version_major": 2,
       "version_minor": 0
      },
      "text/plain": [
       "HBox(children=(HTML(value=''), FloatProgress(value=0.0, max=15.0), HTML(value='')))"
      ]
     },
     "metadata": {},
     "output_type": "display_data"
    },
    {
     "name": "stdout",
     "output_type": "stream",
     "text": [
      "\n"
     ]
    },
    {
     "data": {
      "application/vnd.jupyter.widget-view+json": {
       "model_id": "a1a7ddeadef94007be656abc279c40dc",
       "version_major": 2,
       "version_minor": 0
      },
      "text/plain": [
       "HBox(children=(HTML(value=''), FloatProgress(value=0.0, max=4918.0), HTML(value='')))"
      ]
     },
     "metadata": {},
     "output_type": "display_data"
    },
    {
     "name": "stdout",
     "output_type": "stream",
     "text": [
      "\n"
     ]
    }
   ],
   "source": [
    "recommender = MainRecommender(data_train_lvl_1)"
   ]
  },
  {
   "cell_type": "code",
   "execution_count": 7,
   "metadata": {},
   "outputs": [
    {
     "data": {
      "text/plain": [
       "[899624, 999999, 845208, 956609, 871756]"
      ]
     },
     "execution_count": 7,
     "metadata": {},
     "output_type": "execute_result"
    }
   ],
   "source": [
    "recommender.get_als_recommendation(2375, N=5)"
   ]
  },
  {
   "cell_type": "code",
   "execution_count": 8,
   "metadata": {},
   "outputs": [
    {
     "data": {
      "text/plain": [
       "[1068562, 1036501, 5574377, 1005935, 949836]"
      ]
     },
     "execution_count": 8,
     "metadata": {},
     "output_type": "execute_result"
    }
   ],
   "source": [
    "recommender.get_own_recommendation(2375, N=5)"
   ]
  },
  {
   "cell_type": "code",
   "execution_count": 9,
   "metadata": {},
   "outputs": [
    {
     "data": {
      "text/plain": [
       "[1076056, 9527160, 819255, 1013149, 1046545]"
      ]
     },
     "execution_count": 9,
     "metadata": {},
     "output_type": "execute_result"
    }
   ],
   "source": [
    "recommender.get_similar_items_recommendation(2375, N=5)"
   ]
  },
  {
   "cell_type": "code",
   "execution_count": 10,
   "metadata": {},
   "outputs": [
    {
     "data": {
      "text/plain": [
       "[999999, 13842214, 964594, 9189814, 1139782]"
      ]
     },
     "execution_count": 10,
     "metadata": {},
     "output_type": "execute_result"
    }
   ],
   "source": [
    "recommender.get_similar_users_recommendation(2375, N=5)"
   ]
  },
  {
   "cell_type": "markdown",
   "metadata": {},
   "source": [
    "### Задание 1\n",
    "\n",
    "A) Попробуйте различные варианты генерации кандидатов. Какие из них дают наибольший recall@k ?\n",
    "- Пока пробуем отобрать 50 кандидатов (k=50)\n",
    "- Качество измеряем на data_val_lvl_1: следующие 6 недель после трейна\n",
    "\n",
    "Дают ли own recommendtions + top-popular лучший recall?  \n",
    "\n",
    "B)* Как зависит recall@k от k? Постройте для одной схемы генерации кандидатов эту зависимость для k = {20, 50, 100, 200, 500}  \n",
    "C)* Исходя из прошлого вопроса, как вы думаете, какое значение k является наиболее разумным?\n"
   ]
  },
  {
   "cell_type": "code",
   "execution_count": 73,
   "metadata": {},
   "outputs": [
    {
     "data": {
      "text/html": [
       "<div>\n",
       "<style scoped>\n",
       "    .dataframe tbody tr th:only-of-type {\n",
       "        vertical-align: middle;\n",
       "    }\n",
       "\n",
       "    .dataframe tbody tr th {\n",
       "        vertical-align: top;\n",
       "    }\n",
       "\n",
       "    .dataframe thead th {\n",
       "        text-align: right;\n",
       "    }\n",
       "</style>\n",
       "<table border=\"1\" class=\"dataframe\">\n",
       "  <thead>\n",
       "    <tr style=\"text-align: right;\">\n",
       "      <th></th>\n",
       "      <th>user_id</th>\n",
       "      <th>actual</th>\n",
       "    </tr>\n",
       "  </thead>\n",
       "  <tbody>\n",
       "    <tr>\n",
       "      <th>0</th>\n",
       "      <td>1</td>\n",
       "      <td>[853529, 865456, 867607, 872137, 874905, 87524...</td>\n",
       "    </tr>\n",
       "    <tr>\n",
       "      <th>1</th>\n",
       "      <td>2</td>\n",
       "      <td>[15830248, 838136, 839656, 861272, 866211, 870...</td>\n",
       "    </tr>\n",
       "  </tbody>\n",
       "</table>\n",
       "</div>"
      ],
      "text/plain": [
       "   user_id                                             actual\n",
       "0        1  [853529, 865456, 867607, 872137, 874905, 87524...\n",
       "1        2  [15830248, 838136, 839656, 861272, 866211, 870..."
      ]
     },
     "execution_count": 73,
     "metadata": {},
     "output_type": "execute_result"
    }
   ],
   "source": [
    "result_lvl_1 = data_val_lvl_1.groupby('user_id')['item_id'].unique().reset_index()\n",
    "result_lvl_1.columns=['user_id', 'actual']\n",
    "result_lvl_1.head(2)"
   ]
  },
  {
   "cell_type": "markdown",
   "metadata": {},
   "source": [
    "#### Возникла сложность с юзерами, которых не было на обучении, но для которых нужно давать предсказания - ихо просто нет в матрице userid_to_id. Для таких пользователей просто дал топ популярных"
   ]
  },
  {
   "cell_type": "code",
   "execution_count": 74,
   "metadata": {},
   "outputs": [],
   "source": [
    "result_lvl_1['similar_users'] = result_lvl_1['user_id'].apply(lambda x: recommender.get_similar_users_recommendation(x, N=50))"
   ]
  },
  {
   "cell_type": "code",
   "execution_count": 75,
   "metadata": {},
   "outputs": [],
   "source": [
    "result_lvl_1['similar_items'] = result_lvl_1['user_id'].apply(lambda x: recommender.get_similar_items_recommendation(x, N=50))"
   ]
  },
  {
   "cell_type": "code",
   "execution_count": 76,
   "metadata": {},
   "outputs": [],
   "source": [
    "result_lvl_1['als'] = result_lvl_1['user_id'].apply(lambda x: recommender.get_als_recommendation(x, N=50))"
   ]
  },
  {
   "cell_type": "code",
   "execution_count": 77,
   "metadata": {},
   "outputs": [],
   "source": [
    "result_lvl_1['own'] = result_lvl_1['user_id'].apply(lambda x: recommender.get_own_recommendation(x, N=50))"
   ]
  },
  {
   "cell_type": "code",
   "execution_count": 78,
   "metadata": {},
   "outputs": [
    {
     "data": {
      "text/html": [
       "<div>\n",
       "<style scoped>\n",
       "    .dataframe tbody tr th:only-of-type {\n",
       "        vertical-align: middle;\n",
       "    }\n",
       "\n",
       "    .dataframe tbody tr th {\n",
       "        vertical-align: top;\n",
       "    }\n",
       "\n",
       "    .dataframe thead th {\n",
       "        text-align: right;\n",
       "    }\n",
       "</style>\n",
       "<table border=\"1\" class=\"dataframe\">\n",
       "  <thead>\n",
       "    <tr style=\"text-align: right;\">\n",
       "      <th></th>\n",
       "      <th>user_id</th>\n",
       "      <th>actual</th>\n",
       "      <th>similar_users</th>\n",
       "      <th>similar_items</th>\n",
       "      <th>als</th>\n",
       "      <th>own</th>\n",
       "    </tr>\n",
       "  </thead>\n",
       "  <tbody>\n",
       "    <tr>\n",
       "      <th>0</th>\n",
       "      <td>1</td>\n",
       "      <td>[853529, 865456, 867607, 872137, 874905, 87524...</td>\n",
       "      <td>[999999, 1022795, 937686, 1040812, 975649, 983...</td>\n",
       "      <td>[1076056, 824758, 9526410, 826597, 944836, 942...</td>\n",
       "      <td>[1082212, 824758, 1047619, 998558, 934399, 934...</td>\n",
       "      <td>[856942, 9297615, 1074612, 5577022, 9655212, 1...</td>\n",
       "    </tr>\n",
       "    <tr>\n",
       "      <th>1</th>\n",
       "      <td>2</td>\n",
       "      <td>[15830248, 838136, 839656, 861272, 866211, 870...</td>\n",
       "      <td>[999999, 973861, 946977, 893018, 9707137, 1118...</td>\n",
       "      <td>[1076056, 819978, 880888, 826597, 6632986, 113...</td>\n",
       "      <td>[999999, 880150, 885023, 976199, 8014645, 9264...</td>\n",
       "      <td>[1076580, 911974, 947427, 838136, 820301, 1118...</td>\n",
       "    </tr>\n",
       "    <tr>\n",
       "      <th>2</th>\n",
       "      <td>4</td>\n",
       "      <td>[883932, 970760, 1035676, 1055863, 1097610, 67...</td>\n",
       "      <td>[999999, 1113588, 978974, 1062966, 5585510, 86...</td>\n",
       "      <td>[1076056, 835530, 1111786, 902172, 1105301, 84...</td>\n",
       "      <td>[891423, 882604, 902172, 846550, 1119454, 8839...</td>\n",
       "      <td>[891423, 910109, 6773204, 887003, 1121367, 111...</td>\n",
       "    </tr>\n",
       "  </tbody>\n",
       "</table>\n",
       "</div>"
      ],
      "text/plain": [
       "   user_id                                             actual  \\\n",
       "0        1  [853529, 865456, 867607, 872137, 874905, 87524...   \n",
       "1        2  [15830248, 838136, 839656, 861272, 866211, 870...   \n",
       "2        4  [883932, 970760, 1035676, 1055863, 1097610, 67...   \n",
       "\n",
       "                                       similar_users  \\\n",
       "0  [999999, 1022795, 937686, 1040812, 975649, 983...   \n",
       "1  [999999, 973861, 946977, 893018, 9707137, 1118...   \n",
       "2  [999999, 1113588, 978974, 1062966, 5585510, 86...   \n",
       "\n",
       "                                       similar_items  \\\n",
       "0  [1076056, 824758, 9526410, 826597, 944836, 942...   \n",
       "1  [1076056, 819978, 880888, 826597, 6632986, 113...   \n",
       "2  [1076056, 835530, 1111786, 902172, 1105301, 84...   \n",
       "\n",
       "                                                 als  \\\n",
       "0  [1082212, 824758, 1047619, 998558, 934399, 934...   \n",
       "1  [999999, 880150, 885023, 976199, 8014645, 9264...   \n",
       "2  [891423, 882604, 902172, 846550, 1119454, 8839...   \n",
       "\n",
       "                                                 own  \n",
       "0  [856942, 9297615, 1074612, 5577022, 9655212, 1...  \n",
       "1  [1076580, 911974, 947427, 838136, 820301, 1118...  \n",
       "2  [891423, 910109, 6773204, 887003, 1121367, 111...  "
      ]
     },
     "execution_count": 78,
     "metadata": {},
     "output_type": "execute_result"
    }
   ],
   "source": [
    "result_lvl_1.head(3)"
   ]
  },
  {
   "cell_type": "code",
   "execution_count": 82,
   "metadata": {},
   "outputs": [
    {
     "data": {
      "text/html": [
       "<div>\n",
       "<style scoped>\n",
       "    .dataframe tbody tr th:only-of-type {\n",
       "        vertical-align: middle;\n",
       "    }\n",
       "\n",
       "    .dataframe tbody tr th {\n",
       "        vertical-align: top;\n",
       "    }\n",
       "\n",
       "    .dataframe thead th {\n",
       "        text-align: right;\n",
       "    }\n",
       "</style>\n",
       "<table border=\"1\" class=\"dataframe\">\n",
       "  <thead>\n",
       "    <tr style=\"text-align: right;\">\n",
       "      <th></th>\n",
       "      <th>model</th>\n",
       "      <th>recall</th>\n",
       "    </tr>\n",
       "  </thead>\n",
       "  <tbody>\n",
       "    <tr>\n",
       "      <th>3</th>\n",
       "      <td>own</td>\n",
       "      <td>0.073399</td>\n",
       "    </tr>\n",
       "    <tr>\n",
       "      <th>2</th>\n",
       "      <td>als</td>\n",
       "      <td>0.044257</td>\n",
       "    </tr>\n",
       "    <tr>\n",
       "      <th>1</th>\n",
       "      <td>similar_items</td>\n",
       "      <td>0.027057</td>\n",
       "    </tr>\n",
       "    <tr>\n",
       "      <th>0</th>\n",
       "      <td>similar_users</td>\n",
       "      <td>0.008725</td>\n",
       "    </tr>\n",
       "  </tbody>\n",
       "</table>\n",
       "</div>"
      ],
      "text/plain": [
       "           model    recall\n",
       "3            own  0.073399\n",
       "2            als  0.044257\n",
       "1  similar_items  0.027057\n",
       "0  similar_users  0.008725"
      ]
     },
     "execution_count": 82,
     "metadata": {},
     "output_type": "execute_result"
    }
   ],
   "source": [
    "models = result_lvl_1.columns[2:]\n",
    "score = []\n",
    "for model_ in models:\n",
    "    score.append(result_lvl_1.apply(lambda x: recall_at_k(x[model_], x['actual'], k=50), axis=1).mean())    \n",
    "\n",
    "evaluation = pd.DataFrame({'model': models, 'recall': score})\n",
    "evaluation.sort_values('recall', ascending=False)"
   ]
  },
  {
   "cell_type": "markdown",
   "metadata": {},
   "source": [
    "#### Лучший результат показали собственные рекоммендации (мы уже проделывали это на одном из прошлых вебинаров, действительно - пользователь больше всего похож сам на себя)."
   ]
  },
  {
   "cell_type": "code",
   "execution_count": 83,
   "metadata": {},
   "outputs": [],
   "source": [
    "k = [20, 50, 100, 200, 500, 700]"
   ]
  },
  {
   "cell_type": "code",
   "execution_count": 84,
   "metadata": {},
   "outputs": [],
   "source": [
    "result_lvl_1 = data_val_lvl_1.groupby('user_id')['item_id'].unique().reset_index()\n",
    "result_lvl_1.columns=['user_id', 'actual']\n",
    "result_lvl_1.head(2)\n",
    "\n",
    "for i in k:\n",
    "    result_lvl_1['als ' + str(i)] = result_lvl_1['user_id'].apply(lambda x: recommender.get_als_recommendation(x, N=i))"
   ]
  },
  {
   "cell_type": "code",
   "execution_count": 85,
   "metadata": {},
   "outputs": [
    {
     "data": {
      "text/html": [
       "<div>\n",
       "<style scoped>\n",
       "    .dataframe tbody tr th:only-of-type {\n",
       "        vertical-align: middle;\n",
       "    }\n",
       "\n",
       "    .dataframe tbody tr th {\n",
       "        vertical-align: top;\n",
       "    }\n",
       "\n",
       "    .dataframe thead th {\n",
       "        text-align: right;\n",
       "    }\n",
       "</style>\n",
       "<table border=\"1\" class=\"dataframe\">\n",
       "  <thead>\n",
       "    <tr style=\"text-align: right;\">\n",
       "      <th></th>\n",
       "      <th>model</th>\n",
       "      <th>recall</th>\n",
       "      <th>precision</th>\n",
       "    </tr>\n",
       "  </thead>\n",
       "  <tbody>\n",
       "    <tr>\n",
       "      <th>0</th>\n",
       "      <td>als 20</td>\n",
       "      <td>0.023598</td>\n",
       "      <td>0.067247</td>\n",
       "    </tr>\n",
       "    <tr>\n",
       "      <th>1</th>\n",
       "      <td>als 50</td>\n",
       "      <td>0.044257</td>\n",
       "      <td>0.054048</td>\n",
       "    </tr>\n",
       "    <tr>\n",
       "      <th>2</th>\n",
       "      <td>als 100</td>\n",
       "      <td>0.068084</td>\n",
       "      <td>0.043890</td>\n",
       "    </tr>\n",
       "    <tr>\n",
       "      <th>3</th>\n",
       "      <td>als 200</td>\n",
       "      <td>0.102788</td>\n",
       "      <td>0.034357</td>\n",
       "    </tr>\n",
       "    <tr>\n",
       "      <th>4</th>\n",
       "      <td>als 500</td>\n",
       "      <td>0.172579</td>\n",
       "      <td>0.023422</td>\n",
       "    </tr>\n",
       "    <tr>\n",
       "      <th>5</th>\n",
       "      <td>als 700</td>\n",
       "      <td>0.203296</td>\n",
       "      <td>0.019897</td>\n",
       "    </tr>\n",
       "  </tbody>\n",
       "</table>\n",
       "</div>"
      ],
      "text/plain": [
       "     model    recall  precision\n",
       "0   als 20  0.023598   0.067247\n",
       "1   als 50  0.044257   0.054048\n",
       "2  als 100  0.068084   0.043890\n",
       "3  als 200  0.102788   0.034357\n",
       "4  als 500  0.172579   0.023422\n",
       "5  als 700  0.203296   0.019897"
      ]
     },
     "execution_count": 85,
     "metadata": {},
     "output_type": "execute_result"
    }
   ],
   "source": [
    "models = result_lvl_1.columns[2:]\n",
    "recall = []\n",
    "precision = []\n",
    "for model_ in models:\n",
    "    recall.append(result_lvl_1.apply(lambda x: recall_at_k(x[model_], x['actual'], k=700), axis=1).mean())   \n",
    "    precision.append(result_lvl_1.apply(lambda x: precision_at_k(x[model_], x['actual'], k=700), axis=1).mean())   \n",
    "    \n",
    "\n",
    "evaluation = pd.DataFrame({'model': models, 'recall': recall, 'precision': precision})\n",
    "evaluation"
   ]
  },
  {
   "cell_type": "code",
   "execution_count": 89,
   "metadata": {},
   "outputs": [
    {
     "data": {
      "text/plain": [
       "<matplotlib.legend.Legend at 0x155463d5ef0>"
      ]
     },
     "execution_count": 89,
     "metadata": {},
     "output_type": "execute_result"
    },
    {
     "data": {
      "image/png": "[encoded data removed]",
      "text/plain": [
       "<Figure size 432x288 with 1 Axes>"
      ]
     },
     "metadata": {
      "needs_background": "light"
     },
     "output_type": "display_data"
    }
   ],
   "source": [
    "plt.plot(k, recall, label='recall')\n",
    "plt.plot(k, precision, label='precision')\n",
    "plt.grid()\n",
    "plt.legend()"
   ]
  },
  {
   "cell_type": "markdown",
   "metadata": {},
   "source": [
    "#### Сложно дать конкретный ответ, какое К лучше. Мы не хотим брать слишком большое К, потому что теряется сама идея двухуровневости. Мы не хотим брать слишком маленькое К, поскольку на может достаться слабая выборка по пользователю, и как её не ранжируй - предсказание будет плохое.  <br>\n",
    "#### Вижу два варианта подбора: 1) ALS возвращает K лучших рекоммендаций и их score. Можно посмотреть, сколько в среднем предсказаний дается с приемлемым результатом. 2) Метод экспериментов, попробовать разное и посмотреть на итоговую метрику  "
   ]
  },
  {
   "cell_type": "markdown",
   "metadata": {},
   "source": [
    "### Задание 2.\n",
    "\n",
    "Обучите модель 2-ого уровня, при этом:\n",
    "    - Добавьте минимум по 2 фичи для юзера, товара и пары юзер-товар\n",
    "    - Измерьте отдельно precision@5 модели 1-ого уровня и двухуровневой модели на data_val_lvl_2\n",
    "    - Вырос ли precision@5 при использовании двухуровневой модели?"
   ]
  },
  {
   "cell_type": "code",
   "execution_count": 790,
   "metadata": {},
   "outputs": [
    {
     "data": {
      "text/html": [
       "<div>\n",
       "<style scoped>\n",
       "    .dataframe tbody tr th:only-of-type {\n",
       "        vertical-align: middle;\n",
       "    }\n",
       "\n",
       "    .dataframe tbody tr th {\n",
       "        vertical-align: top;\n",
       "    }\n",
       "\n",
       "    .dataframe thead th {\n",
       "        text-align: right;\n",
       "    }\n",
       "</style>\n",
       "<table border=\"1\" class=\"dataframe\">\n",
       "  <thead>\n",
       "    <tr style=\"text-align: right;\">\n",
       "      <th></th>\n",
       "      <th>user_id</th>\n",
       "      <th>basket_id</th>\n",
       "      <th>day</th>\n",
       "      <th>item_id</th>\n",
       "      <th>quantity</th>\n",
       "      <th>sales_value</th>\n",
       "      <th>store_id</th>\n",
       "      <th>retail_disc</th>\n",
       "      <th>trans_time</th>\n",
       "      <th>week_no</th>\n",
       "      <th>coupon_disc</th>\n",
       "      <th>coupon_match_disc</th>\n",
       "    </tr>\n",
       "  </thead>\n",
       "  <tbody>\n",
       "    <tr>\n",
       "      <th>0</th>\n",
       "      <td>2375</td>\n",
       "      <td>26984851472</td>\n",
       "      <td>1</td>\n",
       "      <td>1004906</td>\n",
       "      <td>1</td>\n",
       "      <td>1.39</td>\n",
       "      <td>364</td>\n",
       "      <td>-0.60</td>\n",
       "      <td>1631</td>\n",
       "      <td>1</td>\n",
       "      <td>0.0</td>\n",
       "      <td>0.0</td>\n",
       "    </tr>\n",
       "    <tr>\n",
       "      <th>1</th>\n",
       "      <td>2375</td>\n",
       "      <td>26984851472</td>\n",
       "      <td>1</td>\n",
       "      <td>1033142</td>\n",
       "      <td>1</td>\n",
       "      <td>0.82</td>\n",
       "      <td>364</td>\n",
       "      <td>0.00</td>\n",
       "      <td>1631</td>\n",
       "      <td>1</td>\n",
       "      <td>0.0</td>\n",
       "      <td>0.0</td>\n",
       "    </tr>\n",
       "    <tr>\n",
       "      <th>2</th>\n",
       "      <td>2375</td>\n",
       "      <td>26984851472</td>\n",
       "      <td>1</td>\n",
       "      <td>1036325</td>\n",
       "      <td>1</td>\n",
       "      <td>0.99</td>\n",
       "      <td>364</td>\n",
       "      <td>-0.30</td>\n",
       "      <td>1631</td>\n",
       "      <td>1</td>\n",
       "      <td>0.0</td>\n",
       "      <td>0.0</td>\n",
       "    </tr>\n",
       "    <tr>\n",
       "      <th>3</th>\n",
       "      <td>2375</td>\n",
       "      <td>26984851472</td>\n",
       "      <td>1</td>\n",
       "      <td>1082185</td>\n",
       "      <td>1</td>\n",
       "      <td>1.21</td>\n",
       "      <td>364</td>\n",
       "      <td>0.00</td>\n",
       "      <td>1631</td>\n",
       "      <td>1</td>\n",
       "      <td>0.0</td>\n",
       "      <td>0.0</td>\n",
       "    </tr>\n",
       "    <tr>\n",
       "      <th>4</th>\n",
       "      <td>2375</td>\n",
       "      <td>26984851472</td>\n",
       "      <td>1</td>\n",
       "      <td>8160430</td>\n",
       "      <td>1</td>\n",
       "      <td>1.50</td>\n",
       "      <td>364</td>\n",
       "      <td>-0.39</td>\n",
       "      <td>1631</td>\n",
       "      <td>1</td>\n",
       "      <td>0.0</td>\n",
       "      <td>0.0</td>\n",
       "    </tr>\n",
       "  </tbody>\n",
       "</table>\n",
       "</div>"
      ],
      "text/plain": [
       "   user_id    basket_id  day  item_id  quantity  sales_value  store_id  \\\n",
       "0     2375  26984851472    1  1004906         1         1.39       364   \n",
       "1     2375  26984851472    1  1033142         1         0.82       364   \n",
       "2     2375  26984851472    1  1036325         1         0.99       364   \n",
       "3     2375  26984851472    1  1082185         1         1.21       364   \n",
       "4     2375  26984851472    1  8160430         1         1.50       364   \n",
       "\n",
       "   retail_disc  trans_time  week_no  coupon_disc  coupon_match_disc  \n",
       "0        -0.60        1631        1          0.0                0.0  \n",
       "1         0.00        1631        1          0.0                0.0  \n",
       "2        -0.30        1631        1          0.0                0.0  \n",
       "3         0.00        1631        1          0.0                0.0  \n",
       "4        -0.39        1631        1          0.0                0.0  "
      ]
     },
     "execution_count": 790,
     "metadata": {},
     "output_type": "execute_result"
    }
   ],
   "source": [
    "data_for_features.head(5)"
   ]
  },
  {
   "cell_type": "code",
   "execution_count": 845,
   "metadata": {},
   "outputs": [],
   "source": [
    "## средний чек\n",
    "mean_sales_value = data_for_features.groupby(['user_id']).sum()['sales_value'] \\\n",
    "                      /  data_for_features.groupby(['user_id'])['basket_id'].nunique()"
   ]
  },
  {
   "cell_type": "code",
   "execution_count": 846,
   "metadata": {},
   "outputs": [],
   "source": [
    "mean_sales_value = mean_sales_value.reset_index()\n",
    "mean_sales_value.columns=['user_id', 'mean_sales_value']"
   ]
  },
  {
   "cell_type": "code",
   "execution_count": 859,
   "metadata": {},
   "outputs": [],
   "source": [
    "## количество уникальных магазинов\n",
    "shops_number = data_for_features.groupby(['user_id'])['store_id'].nunique()\n",
    "shops_number =  shops_number.reset_index()\n",
    "shops_number.columns=['user_id', 'shops_number']"
   ]
  },
  {
   "cell_type": "code",
   "execution_count": 862,
   "metadata": {},
   "outputs": [],
   "source": [
    "## количество уникальных таваров\n",
    "items_number = data_for_features.groupby(['user_id'])['item_id'].nunique()\n",
    "items_number =  items_number.reset_index()\n",
    "items_number.columns=['user_id', 'items_number']"
   ]
  },
  {
   "cell_type": "code",
   "execution_count": 871,
   "metadata": {},
   "outputs": [],
   "source": [
    "## минимальное что-то \n",
    "#coupon_match_disc_min = \n",
    "coupon_match_disc = data_for_features.groupby(['user_id'])['coupon_match_disc'].min()\n",
    "coupon_match_disc =  coupon_match_disc.reset_index()\n",
    "coupon_match_disc.columns=['user_id', 'coupon_match_disc']"
   ]
  },
  {
   "cell_type": "markdown",
   "metadata": {},
   "source": [
    "сначала просто выполним код без доп. фичей, чтобы посмотреть какой у нас результат. Потом попробуем улучшить"
   ]
  },
  {
   "cell_type": "code",
   "execution_count": 872,
   "metadata": {},
   "outputs": [
    {
     "data": {
      "text/html": [
       "<div>\n",
       "<style scoped>\n",
       "    .dataframe tbody tr th:only-of-type {\n",
       "        vertical-align: middle;\n",
       "    }\n",
       "\n",
       "    .dataframe tbody tr th {\n",
       "        vertical-align: top;\n",
       "    }\n",
       "\n",
       "    .dataframe thead th {\n",
       "        text-align: right;\n",
       "    }\n",
       "</style>\n",
       "<table border=\"1\" class=\"dataframe\">\n",
       "  <thead>\n",
       "    <tr style=\"text-align: right;\">\n",
       "      <th></th>\n",
       "      <th>item_id</th>\n",
       "      <th>manufacturer</th>\n",
       "      <th>department</th>\n",
       "      <th>brand</th>\n",
       "      <th>commodity_desc</th>\n",
       "      <th>sub_commodity_desc</th>\n",
       "      <th>curr_size_of_product</th>\n",
       "    </tr>\n",
       "  </thead>\n",
       "  <tbody>\n",
       "    <tr>\n",
       "      <th>0</th>\n",
       "      <td>25671</td>\n",
       "      <td>2</td>\n",
       "      <td>GROCERY</td>\n",
       "      <td>National</td>\n",
       "      <td>FRZN ICE</td>\n",
       "      <td>ICE - CRUSHED/CUBED</td>\n",
       "      <td>22 LB</td>\n",
       "    </tr>\n",
       "    <tr>\n",
       "      <th>1</th>\n",
       "      <td>26081</td>\n",
       "      <td>2</td>\n",
       "      <td>MISC. TRANS.</td>\n",
       "      <td>National</td>\n",
       "      <td>NO COMMODITY DESCRIPTION</td>\n",
       "      <td>NO SUBCOMMODITY DESCRIPTION</td>\n",
       "      <td></td>\n",
       "    </tr>\n",
       "  </tbody>\n",
       "</table>\n",
       "</div>"
      ],
      "text/plain": [
       "   item_id  manufacturer    department     brand            commodity_desc  \\\n",
       "0    25671             2       GROCERY  National                  FRZN ICE   \n",
       "1    26081             2  MISC. TRANS.  National  NO COMMODITY DESCRIPTION   \n",
       "\n",
       "            sub_commodity_desc curr_size_of_product  \n",
       "0          ICE - CRUSHED/CUBED                22 LB  \n",
       "1  NO SUBCOMMODITY DESCRIPTION                       "
      ]
     },
     "execution_count": 872,
     "metadata": {},
     "output_type": "execute_result"
    }
   ],
   "source": [
    "item_features.head(2)"
   ]
  },
  {
   "cell_type": "code",
   "execution_count": 873,
   "metadata": {},
   "outputs": [
    {
     "data": {
      "text/html": [
       "<div>\n",
       "<style scoped>\n",
       "    .dataframe tbody tr th:only-of-type {\n",
       "        vertical-align: middle;\n",
       "    }\n",
       "\n",
       "    .dataframe tbody tr th {\n",
       "        vertical-align: top;\n",
       "    }\n",
       "\n",
       "    .dataframe thead th {\n",
       "        text-align: right;\n",
       "    }\n",
       "</style>\n",
       "<table border=\"1\" class=\"dataframe\">\n",
       "  <thead>\n",
       "    <tr style=\"text-align: right;\">\n",
       "      <th></th>\n",
       "      <th>age_desc</th>\n",
       "      <th>marital_status_code</th>\n",
       "      <th>income_desc</th>\n",
       "      <th>homeowner_desc</th>\n",
       "      <th>hh_comp_desc</th>\n",
       "      <th>household_size_desc</th>\n",
       "      <th>kid_category_desc</th>\n",
       "      <th>user_id</th>\n",
       "    </tr>\n",
       "  </thead>\n",
       "  <tbody>\n",
       "    <tr>\n",
       "      <th>0</th>\n",
       "      <td>65+</td>\n",
       "      <td>A</td>\n",
       "      <td>35-49K</td>\n",
       "      <td>Homeowner</td>\n",
       "      <td>2 Adults No Kids</td>\n",
       "      <td>2</td>\n",
       "      <td>None/Unknown</td>\n",
       "      <td>1</td>\n",
       "    </tr>\n",
       "    <tr>\n",
       "      <th>1</th>\n",
       "      <td>45-54</td>\n",
       "      <td>A</td>\n",
       "      <td>50-74K</td>\n",
       "      <td>Homeowner</td>\n",
       "      <td>2 Adults No Kids</td>\n",
       "      <td>2</td>\n",
       "      <td>None/Unknown</td>\n",
       "      <td>7</td>\n",
       "    </tr>\n",
       "  </tbody>\n",
       "</table>\n",
       "</div>"
      ],
      "text/plain": [
       "  age_desc marital_status_code income_desc homeowner_desc      hh_comp_desc  \\\n",
       "0      65+                   A      35-49K      Homeowner  2 Adults No Kids   \n",
       "1    45-54                   A      50-74K      Homeowner  2 Adults No Kids   \n",
       "\n",
       "  household_size_desc kid_category_desc  user_id  \n",
       "0                   2      None/Unknown        1  \n",
       "1                   2      None/Unknown        7  "
      ]
     },
     "execution_count": 873,
     "metadata": {},
     "output_type": "execute_result"
    }
   ],
   "source": [
    "user_features.head(2)"
   ]
  },
  {
   "cell_type": "code",
   "execution_count": 874,
   "metadata": {},
   "outputs": [],
   "source": [
    "users_lvl_2 = pd.DataFrame(data_train_lvl_2['user_id'].unique())\n",
    "users_lvl_2.columns = ['user_id']\n",
    "\n",
    "# Пока только warm start\n",
    "train_users = data_train_lvl_1['user_id'].unique()\n",
    "users_lvl_2 = users_lvl_2[users_lvl_2['user_id'].isin(train_users)]\n",
    "\n",
    "users_lvl_2['candidates'] = users_lvl_2['user_id'].apply(lambda x: recommender.get_als_recommendation(x, N=150))"
   ]
  },
  {
   "cell_type": "code",
   "execution_count": 875,
   "metadata": {},
   "outputs": [],
   "source": [
    "df=pd.DataFrame({'user_id':users_lvl_2.user_id.values.repeat(len(users_lvl_2.candidates[0])),\n",
    "                 'item_id':np.concatenate(users_lvl_2.candidates.values)})"
   ]
  },
  {
   "cell_type": "code",
   "execution_count": 876,
   "metadata": {},
   "outputs": [],
   "source": [
    "targets_lvl_2 = data_train_lvl_2[['user_id', 'item_id']].copy()\n",
    "targets_lvl_2['target'] = 1  # тут только покупки \n",
    "\n",
    "targets_lvl_2 = df.merge(targets_lvl_2, on=['user_id', 'item_id'], how='left')\n",
    "\n",
    "targets_lvl_2['target'].fillna(0, inplace= True)"
   ]
  },
  {
   "cell_type": "code",
   "execution_count": 877,
   "metadata": {},
   "outputs": [
    {
     "data": {
      "text/html": [
       "<div>\n",
       "<style scoped>\n",
       "    .dataframe tbody tr th:only-of-type {\n",
       "        vertical-align: middle;\n",
       "    }\n",
       "\n",
       "    .dataframe tbody tr th {\n",
       "        vertical-align: top;\n",
       "    }\n",
       "\n",
       "    .dataframe thead th {\n",
       "        text-align: right;\n",
       "    }\n",
       "</style>\n",
       "<table border=\"1\" class=\"dataframe\">\n",
       "  <thead>\n",
       "    <tr style=\"text-align: right;\">\n",
       "      <th></th>\n",
       "      <th>user_id</th>\n",
       "      <th>item_id</th>\n",
       "      <th>target</th>\n",
       "      <th>manufacturer</th>\n",
       "      <th>department</th>\n",
       "      <th>brand</th>\n",
       "      <th>commodity_desc</th>\n",
       "      <th>sub_commodity_desc</th>\n",
       "      <th>curr_size_of_product</th>\n",
       "      <th>age_desc</th>\n",
       "      <th>marital_status_code</th>\n",
       "      <th>income_desc</th>\n",
       "      <th>homeowner_desc</th>\n",
       "      <th>hh_comp_desc</th>\n",
       "      <th>household_size_desc</th>\n",
       "      <th>kid_category_desc</th>\n",
       "      <th>mean_sales_value</th>\n",
       "      <th>shops_number</th>\n",
       "      <th>items_number</th>\n",
       "      <th>coupon_match_disc</th>\n",
       "    </tr>\n",
       "  </thead>\n",
       "  <tbody>\n",
       "    <tr>\n",
       "      <th>0</th>\n",
       "      <td>2070</td>\n",
       "      <td>999999</td>\n",
       "      <td>0.0</td>\n",
       "      <td>NaN</td>\n",
       "      <td>NaN</td>\n",
       "      <td>NaN</td>\n",
       "      <td>NaN</td>\n",
       "      <td>NaN</td>\n",
       "      <td>NaN</td>\n",
       "      <td>45-54</td>\n",
       "      <td>U</td>\n",
       "      <td>50-74K</td>\n",
       "      <td>Unknown</td>\n",
       "      <td>Unknown</td>\n",
       "      <td>1</td>\n",
       "      <td>None/Unknown</td>\n",
       "      <td>11.816961</td>\n",
       "      <td>5</td>\n",
       "      <td>1068</td>\n",
       "      <td>-0.5</td>\n",
       "    </tr>\n",
       "    <tr>\n",
       "      <th>1</th>\n",
       "      <td>2070</td>\n",
       "      <td>899624</td>\n",
       "      <td>1.0</td>\n",
       "      <td>69.0</td>\n",
       "      <td>PRODUCE</td>\n",
       "      <td>Private</td>\n",
       "      <td>POTATOES</td>\n",
       "      <td>POTATOES RUSSET (BULK&amp;BAG)</td>\n",
       "      <td>10 LB</td>\n",
       "      <td>45-54</td>\n",
       "      <td>U</td>\n",
       "      <td>50-74K</td>\n",
       "      <td>Unknown</td>\n",
       "      <td>Unknown</td>\n",
       "      <td>1</td>\n",
       "      <td>None/Unknown</td>\n",
       "      <td>11.816961</td>\n",
       "      <td>5</td>\n",
       "      <td>1068</td>\n",
       "      <td>-0.5</td>\n",
       "    </tr>\n",
       "  </tbody>\n",
       "</table>\n",
       "</div>"
      ],
      "text/plain": [
       "   user_id  item_id  target  manufacturer department    brand commodity_desc  \\\n",
       "0     2070   999999     0.0           NaN        NaN      NaN            NaN   \n",
       "1     2070   899624     1.0          69.0    PRODUCE  Private       POTATOES   \n",
       "\n",
       "           sub_commodity_desc curr_size_of_product age_desc  \\\n",
       "0                         NaN                  NaN    45-54   \n",
       "1  POTATOES RUSSET (BULK&BAG)                10 LB    45-54   \n",
       "\n",
       "  marital_status_code income_desc homeowner_desc hh_comp_desc  \\\n",
       "0                   U      50-74K        Unknown      Unknown   \n",
       "1                   U      50-74K        Unknown      Unknown   \n",
       "\n",
       "  household_size_desc kid_category_desc  mean_sales_value  shops_number  \\\n",
       "0                   1      None/Unknown         11.816961             5   \n",
       "1                   1      None/Unknown         11.816961             5   \n",
       "\n",
       "   items_number  coupon_match_disc  \n",
       "0          1068               -0.5  \n",
       "1          1068               -0.5  "
      ]
     },
     "execution_count": 877,
     "metadata": {},
     "output_type": "execute_result"
    }
   ],
   "source": [
    "targets_lvl_2 = targets_lvl_2.merge(item_features, on='item_id', how='left')\n",
    "targets_lvl_2 = targets_lvl_2.merge(user_features, on='user_id', how='left')\n",
    "targets_lvl_2 = targets_lvl_2.merge(mean_sales_value, on='user_id', how='left')\n",
    "targets_lvl_2 = targets_lvl_2.merge(shops_number, on='user_id', how='left')\n",
    "targets_lvl_2 = targets_lvl_2.merge(items_number, on='user_id', how='left')\n",
    "targets_lvl_2 = targets_lvl_2.merge(coupon_match_disc, on='user_id', how='left')\n",
    "\n",
    "targets_lvl_2.head(2)"
   ]
  },
  {
   "cell_type": "code",
   "execution_count": 886,
   "metadata": {},
   "outputs": [
    {
     "data": {
      "text/plain": [
       "Index(['manufacturer', 'department', 'brand', 'commodity_desc',\n",
       "       'sub_commodity_desc', 'curr_size_of_product', 'age_desc',\n",
       "       'marital_status_code', 'income_desc', 'homeowner_desc', 'hh_comp_desc',\n",
       "       'household_size_desc', 'kid_category_desc'],\n",
       "      dtype='object')"
      ]
     },
     "execution_count": 886,
     "metadata": {},
     "output_type": "execute_result"
    }
   ],
   "source": [
    "X_train.columns[2:15]"
   ]
  },
  {
   "cell_type": "code",
   "execution_count": 879,
   "metadata": {},
   "outputs": [],
   "source": [
    "X_train = targets_lvl_2.drop('target', axis=1)\n",
    "y_train = targets_lvl_2[['target']]"
   ]
  },
  {
   "cell_type": "code",
   "execution_count": 887,
   "metadata": {},
   "outputs": [],
   "source": [
    "cat_feats = X_train.columns[2:15].tolist()\n",
    "X_train[cat_feats] = X_train[cat_feats].astype('category')"
   ]
  },
  {
   "cell_type": "code",
   "execution_count": 888,
   "metadata": {},
   "outputs": [],
   "source": [
    "from lightgbm import LGBMRanker\n",
    "\n",
    "lgb_params = { \n",
    "    'objective':'lambdarank',\n",
    "    'boosting_type': 'gbdt',\n",
    "    'n_estimators': 500,\n",
    "    'learning_rate': 0.1,\n",
    "    'max_depth': 4,\n",
    "    'categorical_column': cat_feats,\n",
    "    'random_state': 27,\n",
    "    'verbose': 1,\n",
    "    'is_unbalance': True\n",
    "}"
   ]
  },
  {
   "cell_type": "code",
   "execution_count": 889,
   "metadata": {},
   "outputs": [],
   "source": [
    "X_train['num'] = np.arange(len(X_train))"
   ]
  },
  {
   "cell_type": "code",
   "execution_count": 890,
   "metadata": {},
   "outputs": [
    {
     "data": {
      "text/plain": [
       "array([   150,    302,    455, ..., 327393, 327543, 327693])"
      ]
     },
     "execution_count": 890,
     "metadata": {},
     "output_type": "execute_result"
    }
   ],
   "source": [
    "gr = X_train[['user_id', 'num']].groupby('user_id', sort=False).max()['num'].values\n",
    "gr"
   ]
  },
  {
   "cell_type": "code",
   "execution_count": 891,
   "metadata": {},
   "outputs": [
    {
     "data": {
      "text/plain": [
       "array([151, 152, 153, ..., 150, 150, 150])"
      ]
     },
     "execution_count": 891,
     "metadata": {},
     "output_type": "execute_result"
    }
   ],
   "source": [
    "grs = np.concatenate((np.array([gr[0]+1]), gr[1:] - gr[:-1]))\n",
    "grs"
   ]
  },
  {
   "cell_type": "code",
   "execution_count": 893,
   "metadata": {},
   "outputs": [],
   "source": [
    "X_train.drop('num', axis=1, inplace=True)"
   ]
  },
  {
   "cell_type": "code",
   "execution_count": 894,
   "metadata": {},
   "outputs": [
    {
     "name": "stderr",
     "output_type": "stream",
     "text": [
      "C:\\Users\\Pavel\\Anaconda3\\lib\\site-packages\\lightgbm\\basic.py:863: UserWarning: categorical_column in param dict is overridden.\n",
      "  warnings.warn('{} in param dict is overridden.'.format(cat_alias))\n"
     ]
    },
    {
     "name": "stdout",
     "output_type": "stream",
     "text": [
      "[1]\ttraining's ndcg@5: 0.326608\ttraining's ndcg@10: 0.341327\n",
      "Training until validation scores don't improve for 50 rounds\n",
      "[2]\ttraining's ndcg@5: 0.337899\ttraining's ndcg@10: 0.347301\n",
      "[3]\ttraining's ndcg@5: 0.345204\ttraining's ndcg@10: 0.353525\n",
      "[4]\ttraining's ndcg@5: 0.348468\ttraining's ndcg@10: 0.355749\n",
      "[5]\ttraining's ndcg@5: 0.351795\ttraining's ndcg@10: 0.358778\n",
      "[6]\ttraining's ndcg@5: 0.349903\ttraining's ndcg@10: 0.359451\n",
      "[7]\ttraining's ndcg@5: 0.350619\ttraining's ndcg@10: 0.361679\n",
      "[8]\ttraining's ndcg@5: 0.351107\ttraining's ndcg@10: 0.361473\n",
      "[9]\ttraining's ndcg@5: 0.352829\ttraining's ndcg@10: 0.362916\n",
      "[10]\ttraining's ndcg@5: 0.353655\ttraining's ndcg@10: 0.362952\n",
      "[11]\ttraining's ndcg@5: 0.355797\ttraining's ndcg@10: 0.362977\n",
      "[12]\ttraining's ndcg@5: 0.355747\ttraining's ndcg@10: 0.363699\n",
      "[13]\ttraining's ndcg@5: 0.357233\ttraining's ndcg@10: 0.363879\n",
      "[14]\ttraining's ndcg@5: 0.357266\ttraining's ndcg@10: 0.364572\n",
      "[15]\ttraining's ndcg@5: 0.357136\ttraining's ndcg@10: 0.365103\n",
      "[16]\ttraining's ndcg@5: 0.357983\ttraining's ndcg@10: 0.365337\n",
      "[17]\ttraining's ndcg@5: 0.357461\ttraining's ndcg@10: 0.365766\n",
      "[18]\ttraining's ndcg@5: 0.358367\ttraining's ndcg@10: 0.367689\n",
      "[19]\ttraining's ndcg@5: 0.361293\ttraining's ndcg@10: 0.368747\n",
      "[20]\ttraining's ndcg@5: 0.362573\ttraining's ndcg@10: 0.369242\n",
      "[21]\ttraining's ndcg@5: 0.362104\ttraining's ndcg@10: 0.369656\n",
      "[22]\ttraining's ndcg@5: 0.362468\ttraining's ndcg@10: 0.36939\n",
      "[23]\ttraining's ndcg@5: 0.363003\ttraining's ndcg@10: 0.370758\n",
      "[24]\ttraining's ndcg@5: 0.365259\ttraining's ndcg@10: 0.372006\n",
      "[25]\ttraining's ndcg@5: 0.365937\ttraining's ndcg@10: 0.372188\n",
      "[26]\ttraining's ndcg@5: 0.367344\ttraining's ndcg@10: 0.373814\n",
      "[27]\ttraining's ndcg@5: 0.367754\ttraining's ndcg@10: 0.374357\n",
      "[28]\ttraining's ndcg@5: 0.368472\ttraining's ndcg@10: 0.375569\n",
      "[29]\ttraining's ndcg@5: 0.369823\ttraining's ndcg@10: 0.377564\n",
      "[30]\ttraining's ndcg@5: 0.36992\ttraining's ndcg@10: 0.377608\n",
      "[31]\ttraining's ndcg@5: 0.36979\ttraining's ndcg@10: 0.377368\n",
      "[32]\ttraining's ndcg@5: 0.369666\ttraining's ndcg@10: 0.376853\n",
      "[33]\ttraining's ndcg@5: 0.371024\ttraining's ndcg@10: 0.377971\n",
      "[34]\ttraining's ndcg@5: 0.372316\ttraining's ndcg@10: 0.379074\n",
      "[35]\ttraining's ndcg@5: 0.373104\ttraining's ndcg@10: 0.379552\n",
      "[36]\ttraining's ndcg@5: 0.372495\ttraining's ndcg@10: 0.379496\n",
      "[37]\ttraining's ndcg@5: 0.373314\ttraining's ndcg@10: 0.380366\n",
      "[38]\ttraining's ndcg@5: 0.373548\ttraining's ndcg@10: 0.381447\n",
      "[39]\ttraining's ndcg@5: 0.374135\ttraining's ndcg@10: 0.382034\n",
      "[40]\ttraining's ndcg@5: 0.374831\ttraining's ndcg@10: 0.382262\n",
      "[41]\ttraining's ndcg@5: 0.374579\ttraining's ndcg@10: 0.382718\n",
      "[42]\ttraining's ndcg@5: 0.375404\ttraining's ndcg@10: 0.383907\n",
      "[43]\ttraining's ndcg@5: 0.376099\ttraining's ndcg@10: 0.384365\n",
      "[44]\ttraining's ndcg@5: 0.376644\ttraining's ndcg@10: 0.384496\n",
      "[45]\ttraining's ndcg@5: 0.37746\ttraining's ndcg@10: 0.384597\n",
      "[46]\ttraining's ndcg@5: 0.378014\ttraining's ndcg@10: 0.385265\n",
      "[47]\ttraining's ndcg@5: 0.377926\ttraining's ndcg@10: 0.385397\n",
      "[48]\ttraining's ndcg@5: 0.378043\ttraining's ndcg@10: 0.385774\n",
      "[49]\ttraining's ndcg@5: 0.378642\ttraining's ndcg@10: 0.386679\n",
      "[50]\ttraining's ndcg@5: 0.379894\ttraining's ndcg@10: 0.387705\n",
      "[51]\ttraining's ndcg@5: 0.380368\ttraining's ndcg@10: 0.388296\n",
      "[52]\ttraining's ndcg@5: 0.380133\ttraining's ndcg@10: 0.388206\n",
      "[53]\ttraining's ndcg@5: 0.38095\ttraining's ndcg@10: 0.388689\n",
      "[54]\ttraining's ndcg@5: 0.381909\ttraining's ndcg@10: 0.389442\n",
      "[55]\ttraining's ndcg@5: 0.382954\ttraining's ndcg@10: 0.389609\n",
      "[56]\ttraining's ndcg@5: 0.383067\ttraining's ndcg@10: 0.390913\n",
      "[57]\ttraining's ndcg@5: 0.383413\ttraining's ndcg@10: 0.391132\n",
      "[58]\ttraining's ndcg@5: 0.383404\ttraining's ndcg@10: 0.391405\n",
      "[59]\ttraining's ndcg@5: 0.383383\ttraining's ndcg@10: 0.39199\n",
      "[60]\ttraining's ndcg@5: 0.384218\ttraining's ndcg@10: 0.392802\n",
      "[61]\ttraining's ndcg@5: 0.385958\ttraining's ndcg@10: 0.393697\n",
      "[62]\ttraining's ndcg@5: 0.387251\ttraining's ndcg@10: 0.393952\n",
      "[63]\ttraining's ndcg@5: 0.387156\ttraining's ndcg@10: 0.394199\n",
      "[64]\ttraining's ndcg@5: 0.387819\ttraining's ndcg@10: 0.394984\n",
      "[65]\ttraining's ndcg@5: 0.38774\ttraining's ndcg@10: 0.394976\n",
      "[66]\ttraining's ndcg@5: 0.388352\ttraining's ndcg@10: 0.396222\n",
      "[67]\ttraining's ndcg@5: 0.389462\ttraining's ndcg@10: 0.396641\n",
      "[68]\ttraining's ndcg@5: 0.391819\ttraining's ndcg@10: 0.398465\n",
      "[69]\ttraining's ndcg@5: 0.392465\ttraining's ndcg@10: 0.399177\n",
      "[70]\ttraining's ndcg@5: 0.393483\ttraining's ndcg@10: 0.399985\n",
      "[71]\ttraining's ndcg@5: 0.393817\ttraining's ndcg@10: 0.400264\n",
      "[72]\ttraining's ndcg@5: 0.393893\ttraining's ndcg@10: 0.400554\n",
      "[73]\ttraining's ndcg@5: 0.394286\ttraining's ndcg@10: 0.400954\n",
      "[74]\ttraining's ndcg@5: 0.394655\ttraining's ndcg@10: 0.401874\n",
      "[75]\ttraining's ndcg@5: 0.395286\ttraining's ndcg@10: 0.401992\n",
      "[76]\ttraining's ndcg@5: 0.396681\ttraining's ndcg@10: 0.402723\n",
      "[77]\ttraining's ndcg@5: 0.398132\ttraining's ndcg@10: 0.403394\n",
      "[78]\ttraining's ndcg@5: 0.398897\ttraining's ndcg@10: 0.403969\n",
      "[79]\ttraining's ndcg@5: 0.398523\ttraining's ndcg@10: 0.404209\n",
      "[80]\ttraining's ndcg@5: 0.399111\ttraining's ndcg@10: 0.404926\n",
      "[81]\ttraining's ndcg@5: 0.40036\ttraining's ndcg@10: 0.405392\n",
      "[82]\ttraining's ndcg@5: 0.400333\ttraining's ndcg@10: 0.405623\n",
      "[83]\ttraining's ndcg@5: 0.401301\ttraining's ndcg@10: 0.406357\n",
      "[84]\ttraining's ndcg@5: 0.401797\ttraining's ndcg@10: 0.40685\n",
      "[85]\ttraining's ndcg@5: 0.40218\ttraining's ndcg@10: 0.407265\n",
      "[86]\ttraining's ndcg@5: 0.402639\ttraining's ndcg@10: 0.408274\n",
      "[87]\ttraining's ndcg@5: 0.403329\ttraining's ndcg@10: 0.408366\n",
      "[88]\ttraining's ndcg@5: 0.40389\ttraining's ndcg@10: 0.409294\n",
      "[89]\ttraining's ndcg@5: 0.40415\ttraining's ndcg@10: 0.410321\n",
      "[90]\ttraining's ndcg@5: 0.405171\ttraining's ndcg@10: 0.410623\n",
      "[91]\ttraining's ndcg@5: 0.404933\ttraining's ndcg@10: 0.41048\n",
      "[92]\ttraining's ndcg@5: 0.405294\ttraining's ndcg@10: 0.410957\n",
      "[93]\ttraining's ndcg@5: 0.406274\ttraining's ndcg@10: 0.412355\n",
      "[94]\ttraining's ndcg@5: 0.407428\ttraining's ndcg@10: 0.41339\n",
      "[95]\ttraining's ndcg@5: 0.408265\ttraining's ndcg@10: 0.414052\n",
      "[96]\ttraining's ndcg@5: 0.40926\ttraining's ndcg@10: 0.414876\n",
      "[97]\ttraining's ndcg@5: 0.410129\ttraining's ndcg@10: 0.415519\n",
      "[98]\ttraining's ndcg@5: 0.410954\ttraining's ndcg@10: 0.416169\n",
      "[99]\ttraining's ndcg@5: 0.411233\ttraining's ndcg@10: 0.416208\n",
      "[100]\ttraining's ndcg@5: 0.411648\ttraining's ndcg@10: 0.416356\n",
      "[101]\ttraining's ndcg@5: 0.412315\ttraining's ndcg@10: 0.417187\n",
      "[102]\ttraining's ndcg@5: 0.412703\ttraining's ndcg@10: 0.417363\n",
      "[103]\ttraining's ndcg@5: 0.412817\ttraining's ndcg@10: 0.417466\n",
      "[104]\ttraining's ndcg@5: 0.413033\ttraining's ndcg@10: 0.418174\n",
      "[105]\ttraining's ndcg@5: 0.41393\ttraining's ndcg@10: 0.418461\n",
      "[106]\ttraining's ndcg@5: 0.414325\ttraining's ndcg@10: 0.419135\n",
      "[107]\ttraining's ndcg@5: 0.416123\ttraining's ndcg@10: 0.420387\n",
      "[108]\ttraining's ndcg@5: 0.416241\ttraining's ndcg@10: 0.420834\n",
      "[109]\ttraining's ndcg@5: 0.415317\ttraining's ndcg@10: 0.421388\n",
      "[110]\ttraining's ndcg@5: 0.416462\ttraining's ndcg@10: 0.422221\n",
      "[111]\ttraining's ndcg@5: 0.416829\ttraining's ndcg@10: 0.42246\n",
      "[112]\ttraining's ndcg@5: 0.417779\ttraining's ndcg@10: 0.423548\n",
      "[113]\ttraining's ndcg@5: 0.418476\ttraining's ndcg@10: 0.42429\n",
      "[114]\ttraining's ndcg@5: 0.419422\ttraining's ndcg@10: 0.424351\n",
      "[115]\ttraining's ndcg@5: 0.420238\ttraining's ndcg@10: 0.4251\n",
      "[116]\ttraining's ndcg@5: 0.420396\ttraining's ndcg@10: 0.424996\n",
      "[117]\ttraining's ndcg@5: 0.420879\ttraining's ndcg@10: 0.425307\n",
      "[118]\ttraining's ndcg@5: 0.421161\ttraining's ndcg@10: 0.426732\n",
      "[119]\ttraining's ndcg@5: 0.422324\ttraining's ndcg@10: 0.427462\n",
      "[120]\ttraining's ndcg@5: 0.422302\ttraining's ndcg@10: 0.427569\n",
      "[121]\ttraining's ndcg@5: 0.422199\ttraining's ndcg@10: 0.42794\n",
      "[122]\ttraining's ndcg@5: 0.422786\ttraining's ndcg@10: 0.427936\n",
      "[123]\ttraining's ndcg@5: 0.423617\ttraining's ndcg@10: 0.428831\n",
      "[124]\ttraining's ndcg@5: 0.424208\ttraining's ndcg@10: 0.429136\n",
      "[125]\ttraining's ndcg@5: 0.425265\ttraining's ndcg@10: 0.429756\n",
      "[126]\ttraining's ndcg@5: 0.425888\ttraining's ndcg@10: 0.431051\n",
      "[127]\ttraining's ndcg@5: 0.426486\ttraining's ndcg@10: 0.431682\n",
      "[128]\ttraining's ndcg@5: 0.426505\ttraining's ndcg@10: 0.432122\n",
      "[129]\ttraining's ndcg@5: 0.427427\ttraining's ndcg@10: 0.432789\n",
      "[130]\ttraining's ndcg@5: 0.428599\ttraining's ndcg@10: 0.433041\n",
      "[131]\ttraining's ndcg@5: 0.428823\ttraining's ndcg@10: 0.433582\n",
      "[132]\ttraining's ndcg@5: 0.429258\ttraining's ndcg@10: 0.43361\n"
     ]
    },
    {
     "name": "stdout",
     "output_type": "stream",
     "text": [
      "[133]\ttraining's ndcg@5: 0.429774\ttraining's ndcg@10: 0.433837\n",
      "[134]\ttraining's ndcg@5: 0.430611\ttraining's ndcg@10: 0.434166\n",
      "[135]\ttraining's ndcg@5: 0.431444\ttraining's ndcg@10: 0.434737\n",
      "[136]\ttraining's ndcg@5: 0.431673\ttraining's ndcg@10: 0.435166\n",
      "[137]\ttraining's ndcg@5: 0.432021\ttraining's ndcg@10: 0.435554\n",
      "[138]\ttraining's ndcg@5: 0.43257\ttraining's ndcg@10: 0.436009\n",
      "[139]\ttraining's ndcg@5: 0.432315\ttraining's ndcg@10: 0.436757\n",
      "[140]\ttraining's ndcg@5: 0.433191\ttraining's ndcg@10: 0.437294\n",
      "[141]\ttraining's ndcg@5: 0.435234\ttraining's ndcg@10: 0.438917\n",
      "[142]\ttraining's ndcg@5: 0.435688\ttraining's ndcg@10: 0.439263\n",
      "[143]\ttraining's ndcg@5: 0.437204\ttraining's ndcg@10: 0.440155\n",
      "[144]\ttraining's ndcg@5: 0.437898\ttraining's ndcg@10: 0.440903\n",
      "[145]\ttraining's ndcg@5: 0.43871\ttraining's ndcg@10: 0.441661\n",
      "[146]\ttraining's ndcg@5: 0.439332\ttraining's ndcg@10: 0.442074\n",
      "[147]\ttraining's ndcg@5: 0.440136\ttraining's ndcg@10: 0.44301\n",
      "[148]\ttraining's ndcg@5: 0.44089\ttraining's ndcg@10: 0.443633\n",
      "[149]\ttraining's ndcg@5: 0.441021\ttraining's ndcg@10: 0.444001\n",
      "[150]\ttraining's ndcg@5: 0.44135\ttraining's ndcg@10: 0.444318\n",
      "[151]\ttraining's ndcg@5: 0.442198\ttraining's ndcg@10: 0.44476\n",
      "[152]\ttraining's ndcg@5: 0.443252\ttraining's ndcg@10: 0.445369\n",
      "[153]\ttraining's ndcg@5: 0.443723\ttraining's ndcg@10: 0.445536\n",
      "[154]\ttraining's ndcg@5: 0.444378\ttraining's ndcg@10: 0.446035\n",
      "[155]\ttraining's ndcg@5: 0.4443\ttraining's ndcg@10: 0.44586\n",
      "[156]\ttraining's ndcg@5: 0.444882\ttraining's ndcg@10: 0.446654\n",
      "[157]\ttraining's ndcg@5: 0.445748\ttraining's ndcg@10: 0.447433\n",
      "[158]\ttraining's ndcg@5: 0.446457\ttraining's ndcg@10: 0.448004\n",
      "[159]\ttraining's ndcg@5: 0.446543\ttraining's ndcg@10: 0.448401\n",
      "[160]\ttraining's ndcg@5: 0.447488\ttraining's ndcg@10: 0.449522\n",
      "[161]\ttraining's ndcg@5: 0.448205\ttraining's ndcg@10: 0.449877\n",
      "[162]\ttraining's ndcg@5: 0.449175\ttraining's ndcg@10: 0.450242\n",
      "[163]\ttraining's ndcg@5: 0.449309\ttraining's ndcg@10: 0.450499\n",
      "[164]\ttraining's ndcg@5: 0.449869\ttraining's ndcg@10: 0.450988\n",
      "[165]\ttraining's ndcg@5: 0.4506\ttraining's ndcg@10: 0.45179\n",
      "[166]\ttraining's ndcg@5: 0.450984\ttraining's ndcg@10: 0.45203\n",
      "[167]\ttraining's ndcg@5: 0.451702\ttraining's ndcg@10: 0.452751\n",
      "[168]\ttraining's ndcg@5: 0.452286\ttraining's ndcg@10: 0.453563\n",
      "[169]\ttraining's ndcg@5: 0.453362\ttraining's ndcg@10: 0.453956\n",
      "[170]\ttraining's ndcg@5: 0.454599\ttraining's ndcg@10: 0.455096\n",
      "[171]\ttraining's ndcg@5: 0.455391\ttraining's ndcg@10: 0.455391\n",
      "[172]\ttraining's ndcg@5: 0.456155\ttraining's ndcg@10: 0.455856\n",
      "[173]\ttraining's ndcg@5: 0.456932\ttraining's ndcg@10: 0.45668\n",
      "[174]\ttraining's ndcg@5: 0.457767\ttraining's ndcg@10: 0.457182\n",
      "[175]\ttraining's ndcg@5: 0.458181\ttraining's ndcg@10: 0.457503\n",
      "[176]\ttraining's ndcg@5: 0.458086\ttraining's ndcg@10: 0.457767\n",
      "[177]\ttraining's ndcg@5: 0.458088\ttraining's ndcg@10: 0.458102\n",
      "[178]\ttraining's ndcg@5: 0.459662\ttraining's ndcg@10: 0.458889\n",
      "[179]\ttraining's ndcg@5: 0.460616\ttraining's ndcg@10: 0.459719\n",
      "[180]\ttraining's ndcg@5: 0.461633\ttraining's ndcg@10: 0.460557\n",
      "[181]\ttraining's ndcg@5: 0.46217\ttraining's ndcg@10: 0.46122\n",
      "[182]\ttraining's ndcg@5: 0.463179\ttraining's ndcg@10: 0.462025\n",
      "[183]\ttraining's ndcg@5: 0.463396\ttraining's ndcg@10: 0.462026\n",
      "[184]\ttraining's ndcg@5: 0.463466\ttraining's ndcg@10: 0.462156\n",
      "[185]\ttraining's ndcg@5: 0.464103\ttraining's ndcg@10: 0.462415\n",
      "[186]\ttraining's ndcg@5: 0.464878\ttraining's ndcg@10: 0.462784\n",
      "[187]\ttraining's ndcg@5: 0.465713\ttraining's ndcg@10: 0.463479\n",
      "[188]\ttraining's ndcg@5: 0.467\ttraining's ndcg@10: 0.464051\n",
      "[189]\ttraining's ndcg@5: 0.467519\ttraining's ndcg@10: 0.464342\n",
      "[190]\ttraining's ndcg@5: 0.467156\ttraining's ndcg@10: 0.464543\n",
      "[191]\ttraining's ndcg@5: 0.46848\ttraining's ndcg@10: 0.465311\n",
      "[192]\ttraining's ndcg@5: 0.468867\ttraining's ndcg@10: 0.465858\n",
      "[193]\ttraining's ndcg@5: 0.469944\ttraining's ndcg@10: 0.467302\n",
      "[194]\ttraining's ndcg@5: 0.470568\ttraining's ndcg@10: 0.467643\n",
      "[195]\ttraining's ndcg@5: 0.4706\ttraining's ndcg@10: 0.467817\n",
      "[196]\ttraining's ndcg@5: 0.470677\ttraining's ndcg@10: 0.467916\n",
      "[197]\ttraining's ndcg@5: 0.471249\ttraining's ndcg@10: 0.468654\n",
      "[198]\ttraining's ndcg@5: 0.471722\ttraining's ndcg@10: 0.469473\n",
      "[199]\ttraining's ndcg@5: 0.472331\ttraining's ndcg@10: 0.469774\n",
      "[200]\ttraining's ndcg@5: 0.473075\ttraining's ndcg@10: 0.470235\n",
      "[201]\ttraining's ndcg@5: 0.473977\ttraining's ndcg@10: 0.470394\n",
      "[202]\ttraining's ndcg@5: 0.473911\ttraining's ndcg@10: 0.470668\n",
      "[203]\ttraining's ndcg@5: 0.474781\ttraining's ndcg@10: 0.47132\n",
      "[204]\ttraining's ndcg@5: 0.475098\ttraining's ndcg@10: 0.471855\n",
      "[205]\ttraining's ndcg@5: 0.475873\ttraining's ndcg@10: 0.472515\n",
      "[206]\ttraining's ndcg@5: 0.476209\ttraining's ndcg@10: 0.472976\n",
      "[207]\ttraining's ndcg@5: 0.477014\ttraining's ndcg@10: 0.4738\n",
      "[208]\ttraining's ndcg@5: 0.477131\ttraining's ndcg@10: 0.4745\n",
      "[209]\ttraining's ndcg@5: 0.47762\ttraining's ndcg@10: 0.474715\n",
      "[210]\ttraining's ndcg@5: 0.478535\ttraining's ndcg@10: 0.475779\n",
      "[211]\ttraining's ndcg@5: 0.478919\ttraining's ndcg@10: 0.476294\n",
      "[212]\ttraining's ndcg@5: 0.478486\ttraining's ndcg@10: 0.476441\n",
      "[213]\ttraining's ndcg@5: 0.478856\ttraining's ndcg@10: 0.477069\n",
      "[214]\ttraining's ndcg@5: 0.479667\ttraining's ndcg@10: 0.476889\n",
      "[215]\ttraining's ndcg@5: 0.480496\ttraining's ndcg@10: 0.477157\n",
      "[216]\ttraining's ndcg@5: 0.480676\ttraining's ndcg@10: 0.477743\n",
      "[217]\ttraining's ndcg@5: 0.480941\ttraining's ndcg@10: 0.478308\n",
      "[218]\ttraining's ndcg@5: 0.481789\ttraining's ndcg@10: 0.478683\n",
      "[219]\ttraining's ndcg@5: 0.48224\ttraining's ndcg@10: 0.478816\n",
      "[220]\ttraining's ndcg@5: 0.482453\ttraining's ndcg@10: 0.479104\n",
      "[221]\ttraining's ndcg@5: 0.483588\ttraining's ndcg@10: 0.48029\n",
      "[222]\ttraining's ndcg@5: 0.484954\ttraining's ndcg@10: 0.481388\n",
      "[223]\ttraining's ndcg@5: 0.485897\ttraining's ndcg@10: 0.482006\n",
      "[224]\ttraining's ndcg@5: 0.486778\ttraining's ndcg@10: 0.482602\n",
      "[225]\ttraining's ndcg@5: 0.487161\ttraining's ndcg@10: 0.483335\n",
      "[226]\ttraining's ndcg@5: 0.48738\ttraining's ndcg@10: 0.483563\n",
      "[227]\ttraining's ndcg@5: 0.487696\ttraining's ndcg@10: 0.483606\n",
      "[228]\ttraining's ndcg@5: 0.488208\ttraining's ndcg@10: 0.484269\n",
      "[229]\ttraining's ndcg@5: 0.48915\ttraining's ndcg@10: 0.485035\n",
      "[230]\ttraining's ndcg@5: 0.489547\ttraining's ndcg@10: 0.485029\n",
      "[231]\ttraining's ndcg@5: 0.489513\ttraining's ndcg@10: 0.485204\n",
      "[232]\ttraining's ndcg@5: 0.490356\ttraining's ndcg@10: 0.485902\n",
      "[233]\ttraining's ndcg@5: 0.490629\ttraining's ndcg@10: 0.486793\n",
      "[234]\ttraining's ndcg@5: 0.490766\ttraining's ndcg@10: 0.486605\n",
      "[235]\ttraining's ndcg@5: 0.491442\ttraining's ndcg@10: 0.486917\n",
      "[236]\ttraining's ndcg@5: 0.491919\ttraining's ndcg@10: 0.487199\n",
      "[237]\ttraining's ndcg@5: 0.492428\ttraining's ndcg@10: 0.487702\n",
      "[238]\ttraining's ndcg@5: 0.492782\ttraining's ndcg@10: 0.48799\n",
      "[239]\ttraining's ndcg@5: 0.493506\ttraining's ndcg@10: 0.488469\n",
      "[240]\ttraining's ndcg@5: 0.493829\ttraining's ndcg@10: 0.488765\n",
      "[241]\ttraining's ndcg@5: 0.494358\ttraining's ndcg@10: 0.488832\n",
      "[242]\ttraining's ndcg@5: 0.494832\ttraining's ndcg@10: 0.489175\n",
      "[243]\ttraining's ndcg@5: 0.494864\ttraining's ndcg@10: 0.489196\n",
      "[244]\ttraining's ndcg@5: 0.495301\ttraining's ndcg@10: 0.489593\n",
      "[245]\ttraining's ndcg@5: 0.495458\ttraining's ndcg@10: 0.489918\n",
      "[246]\ttraining's ndcg@5: 0.495759\ttraining's ndcg@10: 0.490246\n",
      "[247]\ttraining's ndcg@5: 0.495918\ttraining's ndcg@10: 0.490478\n",
      "[248]\ttraining's ndcg@5: 0.497136\ttraining's ndcg@10: 0.491262\n",
      "[249]\ttraining's ndcg@5: 0.497301\ttraining's ndcg@10: 0.491882\n",
      "[250]\ttraining's ndcg@5: 0.49792\ttraining's ndcg@10: 0.492567\n",
      "[251]\ttraining's ndcg@5: 0.498668\ttraining's ndcg@10: 0.493125\n",
      "[252]\ttraining's ndcg@5: 0.499105\ttraining's ndcg@10: 0.494123\n",
      "[253]\ttraining's ndcg@5: 0.499983\ttraining's ndcg@10: 0.493664\n",
      "[254]\ttraining's ndcg@5: 0.501107\ttraining's ndcg@10: 0.494376\n",
      "[255]\ttraining's ndcg@5: 0.502298\ttraining's ndcg@10: 0.495198\n",
      "[256]\ttraining's ndcg@5: 0.502803\ttraining's ndcg@10: 0.496039\n",
      "[257]\ttraining's ndcg@5: 0.502819\ttraining's ndcg@10: 0.496239\n",
      "[258]\ttraining's ndcg@5: 0.503478\ttraining's ndcg@10: 0.496759\n",
      "[259]\ttraining's ndcg@5: 0.503779\ttraining's ndcg@10: 0.496952\n",
      "[260]\ttraining's ndcg@5: 0.503698\ttraining's ndcg@10: 0.497157\n",
      "[261]\ttraining's ndcg@5: 0.504027\ttraining's ndcg@10: 0.497306\n",
      "[262]\ttraining's ndcg@5: 0.504171\ttraining's ndcg@10: 0.497553\n",
      "[263]\ttraining's ndcg@5: 0.50418\ttraining's ndcg@10: 0.497944\n",
      "[264]\ttraining's ndcg@5: 0.504845\ttraining's ndcg@10: 0.498382\n",
      "[265]\ttraining's ndcg@5: 0.505058\ttraining's ndcg@10: 0.498318\n",
      "[266]\ttraining's ndcg@5: 0.505247\ttraining's ndcg@10: 0.498417\n",
      "[267]\ttraining's ndcg@5: 0.506114\ttraining's ndcg@10: 0.499427\n",
      "[268]\ttraining's ndcg@5: 0.506421\ttraining's ndcg@10: 0.499914\n"
     ]
    },
    {
     "name": "stdout",
     "output_type": "stream",
     "text": [
      "[269]\ttraining's ndcg@5: 0.5066\ttraining's ndcg@10: 0.500239\n",
      "[270]\ttraining's ndcg@5: 0.50715\ttraining's ndcg@10: 0.500635\n",
      "[271]\ttraining's ndcg@5: 0.507569\ttraining's ndcg@10: 0.501081\n",
      "[272]\ttraining's ndcg@5: 0.508599\ttraining's ndcg@10: 0.502122\n",
      "[273]\ttraining's ndcg@5: 0.509565\ttraining's ndcg@10: 0.502912\n",
      "[274]\ttraining's ndcg@5: 0.50992\ttraining's ndcg@10: 0.503622\n",
      "[275]\ttraining's ndcg@5: 0.510498\ttraining's ndcg@10: 0.504131\n",
      "[276]\ttraining's ndcg@5: 0.51109\ttraining's ndcg@10: 0.504421\n",
      "[277]\ttraining's ndcg@5: 0.511187\ttraining's ndcg@10: 0.504545\n",
      "[278]\ttraining's ndcg@5: 0.512034\ttraining's ndcg@10: 0.505279\n",
      "[279]\ttraining's ndcg@5: 0.512967\ttraining's ndcg@10: 0.50632\n",
      "[280]\ttraining's ndcg@5: 0.514286\ttraining's ndcg@10: 0.506978\n",
      "[281]\ttraining's ndcg@5: 0.514936\ttraining's ndcg@10: 0.507299\n",
      "[282]\ttraining's ndcg@5: 0.51505\ttraining's ndcg@10: 0.507806\n",
      "[283]\ttraining's ndcg@5: 0.51557\ttraining's ndcg@10: 0.508042\n",
      "[284]\ttraining's ndcg@5: 0.516312\ttraining's ndcg@10: 0.508547\n",
      "[285]\ttraining's ndcg@5: 0.516549\ttraining's ndcg@10: 0.508835\n",
      "[286]\ttraining's ndcg@5: 0.51674\ttraining's ndcg@10: 0.509404\n",
      "[287]\ttraining's ndcg@5: 0.51718\ttraining's ndcg@10: 0.510104\n",
      "[288]\ttraining's ndcg@5: 0.518067\ttraining's ndcg@10: 0.510729\n",
      "[289]\ttraining's ndcg@5: 0.519266\ttraining's ndcg@10: 0.511491\n",
      "[290]\ttraining's ndcg@5: 0.518849\ttraining's ndcg@10: 0.512117\n",
      "[291]\ttraining's ndcg@5: 0.518947\ttraining's ndcg@10: 0.512365\n",
      "[292]\ttraining's ndcg@5: 0.519088\ttraining's ndcg@10: 0.512493\n",
      "[293]\ttraining's ndcg@5: 0.519907\ttraining's ndcg@10: 0.513022\n",
      "[294]\ttraining's ndcg@5: 0.520167\ttraining's ndcg@10: 0.513212\n",
      "[295]\ttraining's ndcg@5: 0.520654\ttraining's ndcg@10: 0.513882\n",
      "[296]\ttraining's ndcg@5: 0.520769\ttraining's ndcg@10: 0.514254\n",
      "[297]\ttraining's ndcg@5: 0.521043\ttraining's ndcg@10: 0.514579\n",
      "[298]\ttraining's ndcg@5: 0.521367\ttraining's ndcg@10: 0.514895\n",
      "[299]\ttraining's ndcg@5: 0.521716\ttraining's ndcg@10: 0.515273\n",
      "[300]\ttraining's ndcg@5: 0.522322\ttraining's ndcg@10: 0.515664\n",
      "[301]\ttraining's ndcg@5: 0.522518\ttraining's ndcg@10: 0.516034\n",
      "[302]\ttraining's ndcg@5: 0.523035\ttraining's ndcg@10: 0.516404\n",
      "[303]\ttraining's ndcg@5: 0.524266\ttraining's ndcg@10: 0.517022\n",
      "[304]\ttraining's ndcg@5: 0.52436\ttraining's ndcg@10: 0.517045\n",
      "[305]\ttraining's ndcg@5: 0.524784\ttraining's ndcg@10: 0.517788\n",
      "[306]\ttraining's ndcg@5: 0.525171\ttraining's ndcg@10: 0.518161\n",
      "[307]\ttraining's ndcg@5: 0.525717\ttraining's ndcg@10: 0.518732\n",
      "[308]\ttraining's ndcg@5: 0.525771\ttraining's ndcg@10: 0.518714\n",
      "[309]\ttraining's ndcg@5: 0.526027\ttraining's ndcg@10: 0.519102\n",
      "[310]\ttraining's ndcg@5: 0.526455\ttraining's ndcg@10: 0.519227\n",
      "[311]\ttraining's ndcg@5: 0.527072\ttraining's ndcg@10: 0.519825\n",
      "[312]\ttraining's ndcg@5: 0.527424\ttraining's ndcg@10: 0.520178\n",
      "[313]\ttraining's ndcg@5: 0.527641\ttraining's ndcg@10: 0.52023\n",
      "[314]\ttraining's ndcg@5: 0.527177\ttraining's ndcg@10: 0.520258\n",
      "[315]\ttraining's ndcg@5: 0.527509\ttraining's ndcg@10: 0.520353\n",
      "[316]\ttraining's ndcg@5: 0.528239\ttraining's ndcg@10: 0.520986\n",
      "[317]\ttraining's ndcg@5: 0.529171\ttraining's ndcg@10: 0.521674\n",
      "[318]\ttraining's ndcg@5: 0.530112\ttraining's ndcg@10: 0.521997\n",
      "[319]\ttraining's ndcg@5: 0.530493\ttraining's ndcg@10: 0.522378\n",
      "[320]\ttraining's ndcg@5: 0.531152\ttraining's ndcg@10: 0.522926\n",
      "[321]\ttraining's ndcg@5: 0.531453\ttraining's ndcg@10: 0.523345\n",
      "[322]\ttraining's ndcg@5: 0.532071\ttraining's ndcg@10: 0.523978\n",
      "[323]\ttraining's ndcg@5: 0.532929\ttraining's ndcg@10: 0.524935\n",
      "[324]\ttraining's ndcg@5: 0.533918\ttraining's ndcg@10: 0.52508\n",
      "[325]\ttraining's ndcg@5: 0.534037\ttraining's ndcg@10: 0.525665\n",
      "[326]\ttraining's ndcg@5: 0.534471\ttraining's ndcg@10: 0.526136\n",
      "[327]\ttraining's ndcg@5: 0.534672\ttraining's ndcg@10: 0.526572\n",
      "[328]\ttraining's ndcg@5: 0.535231\ttraining's ndcg@10: 0.52701\n",
      "[329]\ttraining's ndcg@5: 0.535546\ttraining's ndcg@10: 0.527466\n",
      "[330]\ttraining's ndcg@5: 0.535983\ttraining's ndcg@10: 0.527855\n",
      "[331]\ttraining's ndcg@5: 0.536686\ttraining's ndcg@10: 0.528429\n",
      "[332]\ttraining's ndcg@5: 0.536401\ttraining's ndcg@10: 0.528454\n",
      "[333]\ttraining's ndcg@5: 0.536944\ttraining's ndcg@10: 0.529355\n",
      "[334]\ttraining's ndcg@5: 0.537057\ttraining's ndcg@10: 0.529714\n",
      "[335]\ttraining's ndcg@5: 0.537773\ttraining's ndcg@10: 0.5309\n",
      "[336]\ttraining's ndcg@5: 0.538585\ttraining's ndcg@10: 0.531995\n",
      "[337]\ttraining's ndcg@5: 0.539062\ttraining's ndcg@10: 0.532056\n",
      "[338]\ttraining's ndcg@5: 0.539652\ttraining's ndcg@10: 0.532699\n",
      "[339]\ttraining's ndcg@5: 0.540848\ttraining's ndcg@10: 0.533267\n",
      "[340]\ttraining's ndcg@5: 0.541311\ttraining's ndcg@10: 0.533893\n",
      "[341]\ttraining's ndcg@5: 0.541247\ttraining's ndcg@10: 0.533999\n",
      "[342]\ttraining's ndcg@5: 0.542118\ttraining's ndcg@10: 0.534905\n",
      "[343]\ttraining's ndcg@5: 0.542472\ttraining's ndcg@10: 0.53515\n",
      "[344]\ttraining's ndcg@5: 0.543416\ttraining's ndcg@10: 0.536248\n",
      "[345]\ttraining's ndcg@5: 0.544222\ttraining's ndcg@10: 0.536765\n",
      "[346]\ttraining's ndcg@5: 0.544836\ttraining's ndcg@10: 0.537291\n",
      "[347]\ttraining's ndcg@5: 0.545476\ttraining's ndcg@10: 0.53822\n",
      "[348]\ttraining's ndcg@5: 0.545965\ttraining's ndcg@10: 0.538524\n",
      "[349]\ttraining's ndcg@5: 0.546848\ttraining's ndcg@10: 0.539057\n",
      "[350]\ttraining's ndcg@5: 0.547372\ttraining's ndcg@10: 0.539508\n",
      "[351]\ttraining's ndcg@5: 0.547394\ttraining's ndcg@10: 0.539592\n",
      "[352]\ttraining's ndcg@5: 0.5483\ttraining's ndcg@10: 0.540268\n",
      "[353]\ttraining's ndcg@5: 0.549126\ttraining's ndcg@10: 0.540708\n",
      "[354]\ttraining's ndcg@5: 0.549679\ttraining's ndcg@10: 0.541345\n",
      "[355]\ttraining's ndcg@5: 0.549576\ttraining's ndcg@10: 0.541914\n",
      "[356]\ttraining's ndcg@5: 0.55012\ttraining's ndcg@10: 0.541659\n",
      "[357]\ttraining's ndcg@5: 0.550846\ttraining's ndcg@10: 0.542028\n",
      "[358]\ttraining's ndcg@5: 0.551863\ttraining's ndcg@10: 0.543041\n",
      "[359]\ttraining's ndcg@5: 0.552047\ttraining's ndcg@10: 0.543302\n",
      "[360]\ttraining's ndcg@5: 0.552347\ttraining's ndcg@10: 0.5435\n",
      "[361]\ttraining's ndcg@5: 0.552549\ttraining's ndcg@10: 0.543691\n",
      "[362]\ttraining's ndcg@5: 0.552552\ttraining's ndcg@10: 0.544116\n",
      "[363]\ttraining's ndcg@5: 0.553014\ttraining's ndcg@10: 0.544348\n",
      "[364]\ttraining's ndcg@5: 0.553814\ttraining's ndcg@10: 0.545374\n",
      "[365]\ttraining's ndcg@5: 0.554624\ttraining's ndcg@10: 0.545351\n",
      "[366]\ttraining's ndcg@5: 0.555208\ttraining's ndcg@10: 0.546056\n",
      "[367]\ttraining's ndcg@5: 0.555797\ttraining's ndcg@10: 0.54623\n",
      "[368]\ttraining's ndcg@5: 0.556294\ttraining's ndcg@10: 0.546733\n",
      "[369]\ttraining's ndcg@5: 0.556521\ttraining's ndcg@10: 0.547044\n",
      "[370]\ttraining's ndcg@5: 0.557273\ttraining's ndcg@10: 0.547975\n",
      "[371]\ttraining's ndcg@5: 0.557926\ttraining's ndcg@10: 0.548747\n",
      "[372]\ttraining's ndcg@5: 0.558562\ttraining's ndcg@10: 0.54929\n",
      "[373]\ttraining's ndcg@5: 0.55948\ttraining's ndcg@10: 0.550811\n",
      "[374]\ttraining's ndcg@5: 0.560187\ttraining's ndcg@10: 0.551086\n",
      "[375]\ttraining's ndcg@5: 0.560283\ttraining's ndcg@10: 0.551522\n",
      "[376]\ttraining's ndcg@5: 0.561257\ttraining's ndcg@10: 0.552331\n",
      "[377]\ttraining's ndcg@5: 0.562103\ttraining's ndcg@10: 0.552819\n",
      "[378]\ttraining's ndcg@5: 0.56211\ttraining's ndcg@10: 0.553396\n",
      "[379]\ttraining's ndcg@5: 0.562817\ttraining's ndcg@10: 0.55386\n",
      "[380]\ttraining's ndcg@5: 0.56343\ttraining's ndcg@10: 0.554266\n",
      "[381]\ttraining's ndcg@5: 0.56436\ttraining's ndcg@10: 0.554487\n",
      "[382]\ttraining's ndcg@5: 0.564556\ttraining's ndcg@10: 0.554939\n",
      "[383]\ttraining's ndcg@5: 0.565407\ttraining's ndcg@10: 0.555617\n",
      "[384]\ttraining's ndcg@5: 0.566004\ttraining's ndcg@10: 0.555978\n",
      "[385]\ttraining's ndcg@5: 0.566675\ttraining's ndcg@10: 0.556578\n",
      "[386]\ttraining's ndcg@5: 0.566996\ttraining's ndcg@10: 0.556915\n",
      "[387]\ttraining's ndcg@5: 0.567389\ttraining's ndcg@10: 0.557041\n",
      "[388]\ttraining's ndcg@5: 0.567733\ttraining's ndcg@10: 0.557597\n",
      "[389]\ttraining's ndcg@5: 0.568226\ttraining's ndcg@10: 0.5578\n",
      "[390]\ttraining's ndcg@5: 0.568623\ttraining's ndcg@10: 0.558034\n",
      "[391]\ttraining's ndcg@5: 0.568814\ttraining's ndcg@10: 0.558179\n",
      "[392]\ttraining's ndcg@5: 0.569441\ttraining's ndcg@10: 0.558889\n",
      "[393]\ttraining's ndcg@5: 0.569747\ttraining's ndcg@10: 0.559555\n",
      "[394]\ttraining's ndcg@5: 0.569813\ttraining's ndcg@10: 0.559544\n",
      "[395]\ttraining's ndcg@5: 0.570046\ttraining's ndcg@10: 0.559959\n",
      "[396]\ttraining's ndcg@5: 0.570784\ttraining's ndcg@10: 0.560501\n",
      "[397]\ttraining's ndcg@5: 0.571578\ttraining's ndcg@10: 0.56078\n",
      "[398]\ttraining's ndcg@5: 0.57142\ttraining's ndcg@10: 0.560979\n",
      "[399]\ttraining's ndcg@5: 0.571809\ttraining's ndcg@10: 0.56127\n",
      "[400]\ttraining's ndcg@5: 0.571347\ttraining's ndcg@10: 0.561208\n",
      "[401]\ttraining's ndcg@5: 0.571621\ttraining's ndcg@10: 0.561824\n",
      "[402]\ttraining's ndcg@5: 0.57254\ttraining's ndcg@10: 0.562515\n",
      "[403]\ttraining's ndcg@5: 0.572734\ttraining's ndcg@10: 0.562527\n"
     ]
    },
    {
     "name": "stdout",
     "output_type": "stream",
     "text": [
      "[404]\ttraining's ndcg@5: 0.573286\ttraining's ndcg@10: 0.562796\n",
      "[405]\ttraining's ndcg@5: 0.573572\ttraining's ndcg@10: 0.563228\n",
      "[406]\ttraining's ndcg@5: 0.573711\ttraining's ndcg@10: 0.563444\n",
      "[407]\ttraining's ndcg@5: 0.574175\ttraining's ndcg@10: 0.56366\n",
      "[408]\ttraining's ndcg@5: 0.574191\ttraining's ndcg@10: 0.563903\n",
      "[409]\ttraining's ndcg@5: 0.574655\ttraining's ndcg@10: 0.564319\n",
      "[410]\ttraining's ndcg@5: 0.574874\ttraining's ndcg@10: 0.564371\n",
      "[411]\ttraining's ndcg@5: 0.575322\ttraining's ndcg@10: 0.564565\n",
      "[412]\ttraining's ndcg@5: 0.576292\ttraining's ndcg@10: 0.565406\n",
      "[413]\ttraining's ndcg@5: 0.576309\ttraining's ndcg@10: 0.565676\n",
      "[414]\ttraining's ndcg@5: 0.576204\ttraining's ndcg@10: 0.566029\n",
      "[415]\ttraining's ndcg@5: 0.576381\ttraining's ndcg@10: 0.566323\n",
      "[416]\ttraining's ndcg@5: 0.577068\ttraining's ndcg@10: 0.566685\n",
      "[417]\ttraining's ndcg@5: 0.577569\ttraining's ndcg@10: 0.566864\n",
      "[418]\ttraining's ndcg@5: 0.578427\ttraining's ndcg@10: 0.56727\n",
      "[419]\ttraining's ndcg@5: 0.57874\ttraining's ndcg@10: 0.567466\n",
      "[420]\ttraining's ndcg@5: 0.578685\ttraining's ndcg@10: 0.567687\n",
      "[421]\ttraining's ndcg@5: 0.578663\ttraining's ndcg@10: 0.568383\n",
      "[422]\ttraining's ndcg@5: 0.579525\ttraining's ndcg@10: 0.569067\n",
      "[423]\ttraining's ndcg@5: 0.580515\ttraining's ndcg@10: 0.569607\n",
      "[424]\ttraining's ndcg@5: 0.581208\ttraining's ndcg@10: 0.569914\n",
      "[425]\ttraining's ndcg@5: 0.581889\ttraining's ndcg@10: 0.569956\n",
      "[426]\ttraining's ndcg@5: 0.581984\ttraining's ndcg@10: 0.570585\n",
      "[427]\ttraining's ndcg@5: 0.582588\ttraining's ndcg@10: 0.571092\n",
      "[428]\ttraining's ndcg@5: 0.58322\ttraining's ndcg@10: 0.57145\n",
      "[429]\ttraining's ndcg@5: 0.584204\ttraining's ndcg@10: 0.572048\n",
      "[430]\ttraining's ndcg@5: 0.584869\ttraining's ndcg@10: 0.572715\n",
      "[431]\ttraining's ndcg@5: 0.584493\ttraining's ndcg@10: 0.572869\n",
      "[432]\ttraining's ndcg@5: 0.584821\ttraining's ndcg@10: 0.573175\n",
      "[433]\ttraining's ndcg@5: 0.585315\ttraining's ndcg@10: 0.573717\n",
      "[434]\ttraining's ndcg@5: 0.585721\ttraining's ndcg@10: 0.57438\n",
      "[435]\ttraining's ndcg@5: 0.586014\ttraining's ndcg@10: 0.574447\n",
      "[436]\ttraining's ndcg@5: 0.586754\ttraining's ndcg@10: 0.57477\n",
      "[437]\ttraining's ndcg@5: 0.58727\ttraining's ndcg@10: 0.575299\n",
      "[438]\ttraining's ndcg@5: 0.587396\ttraining's ndcg@10: 0.575548\n",
      "[439]\ttraining's ndcg@5: 0.588509\ttraining's ndcg@10: 0.576112\n",
      "[440]\ttraining's ndcg@5: 0.58888\ttraining's ndcg@10: 0.576444\n",
      "[441]\ttraining's ndcg@5: 0.589347\ttraining's ndcg@10: 0.576902\n",
      "[442]\ttraining's ndcg@5: 0.589667\ttraining's ndcg@10: 0.577237\n",
      "[443]\ttraining's ndcg@5: 0.589926\ttraining's ndcg@10: 0.577396\n",
      "[444]\ttraining's ndcg@5: 0.590566\ttraining's ndcg@10: 0.577755\n",
      "[445]\ttraining's ndcg@5: 0.590818\ttraining's ndcg@10: 0.57795\n",
      "[446]\ttraining's ndcg@5: 0.591163\ttraining's ndcg@10: 0.578392\n",
      "[447]\ttraining's ndcg@5: 0.591429\ttraining's ndcg@10: 0.578678\n",
      "[448]\ttraining's ndcg@5: 0.592263\ttraining's ndcg@10: 0.579134\n",
      "[449]\ttraining's ndcg@5: 0.593157\ttraining's ndcg@10: 0.579576\n",
      "[450]\ttraining's ndcg@5: 0.59358\ttraining's ndcg@10: 0.58017\n",
      "[451]\ttraining's ndcg@5: 0.593526\ttraining's ndcg@10: 0.580049\n",
      "[452]\ttraining's ndcg@5: 0.59403\ttraining's ndcg@10: 0.580508\n",
      "[453]\ttraining's ndcg@5: 0.59393\ttraining's ndcg@10: 0.580712\n",
      "[454]\ttraining's ndcg@5: 0.594785\ttraining's ndcg@10: 0.581518\n",
      "[455]\ttraining's ndcg@5: 0.594607\ttraining's ndcg@10: 0.581634\n",
      "[456]\ttraining's ndcg@5: 0.594762\ttraining's ndcg@10: 0.582165\n",
      "[457]\ttraining's ndcg@5: 0.595137\ttraining's ndcg@10: 0.582345\n",
      "[458]\ttraining's ndcg@5: 0.595924\ttraining's ndcg@10: 0.582909\n",
      "[459]\ttraining's ndcg@5: 0.596304\ttraining's ndcg@10: 0.583274\n",
      "[460]\ttraining's ndcg@5: 0.596744\ttraining's ndcg@10: 0.583702\n",
      "[461]\ttraining's ndcg@5: 0.597075\ttraining's ndcg@10: 0.584128\n",
      "[462]\ttraining's ndcg@5: 0.59759\ttraining's ndcg@10: 0.584655\n",
      "[463]\ttraining's ndcg@5: 0.598209\ttraining's ndcg@10: 0.585042\n",
      "[464]\ttraining's ndcg@5: 0.598599\ttraining's ndcg@10: 0.585285\n",
      "[465]\ttraining's ndcg@5: 0.598932\ttraining's ndcg@10: 0.58559\n",
      "[466]\ttraining's ndcg@5: 0.599166\ttraining's ndcg@10: 0.585673\n",
      "[467]\ttraining's ndcg@5: 0.59973\ttraining's ndcg@10: 0.586086\n",
      "[468]\ttraining's ndcg@5: 0.599959\ttraining's ndcg@10: 0.58651\n",
      "[469]\ttraining's ndcg@5: 0.599858\ttraining's ndcg@10: 0.586715\n",
      "[470]\ttraining's ndcg@5: 0.600608\ttraining's ndcg@10: 0.587214\n",
      "[471]\ttraining's ndcg@5: 0.601479\ttraining's ndcg@10: 0.58779\n",
      "[472]\ttraining's ndcg@5: 0.601898\ttraining's ndcg@10: 0.587887\n",
      "[473]\ttraining's ndcg@5: 0.60229\ttraining's ndcg@10: 0.588087\n",
      "[474]\ttraining's ndcg@5: 0.602368\ttraining's ndcg@10: 0.588204\n",
      "[475]\ttraining's ndcg@5: 0.602839\ttraining's ndcg@10: 0.58836\n",
      "[476]\ttraining's ndcg@5: 0.603076\ttraining's ndcg@10: 0.588588\n",
      "[477]\ttraining's ndcg@5: 0.603393\ttraining's ndcg@10: 0.588644\n",
      "[478]\ttraining's ndcg@5: 0.603943\ttraining's ndcg@10: 0.589219\n",
      "[479]\ttraining's ndcg@5: 0.60429\ttraining's ndcg@10: 0.589381\n",
      "[480]\ttraining's ndcg@5: 0.604441\ttraining's ndcg@10: 0.58957\n",
      "[481]\ttraining's ndcg@5: 0.604943\ttraining's ndcg@10: 0.590141\n",
      "[482]\ttraining's ndcg@5: 0.605133\ttraining's ndcg@10: 0.590241\n",
      "[483]\ttraining's ndcg@5: 0.605267\ttraining's ndcg@10: 0.590193\n",
      "[484]\ttraining's ndcg@5: 0.605633\ttraining's ndcg@10: 0.590531\n",
      "[485]\ttraining's ndcg@5: 0.605914\ttraining's ndcg@10: 0.590912\n",
      "[486]\ttraining's ndcg@5: 0.605958\ttraining's ndcg@10: 0.591009\n",
      "[487]\ttraining's ndcg@5: 0.606028\ttraining's ndcg@10: 0.590987\n",
      "[488]\ttraining's ndcg@5: 0.606474\ttraining's ndcg@10: 0.591623\n",
      "[489]\ttraining's ndcg@5: 0.606612\ttraining's ndcg@10: 0.591921\n",
      "[490]\ttraining's ndcg@5: 0.607048\ttraining's ndcg@10: 0.592011\n",
      "[491]\ttraining's ndcg@5: 0.60714\ttraining's ndcg@10: 0.592253\n",
      "[492]\ttraining's ndcg@5: 0.607083\ttraining's ndcg@10: 0.592158\n",
      "[493]\ttraining's ndcg@5: 0.607272\ttraining's ndcg@10: 0.592546\n",
      "[494]\ttraining's ndcg@5: 0.607243\ttraining's ndcg@10: 0.592747\n",
      "[495]\ttraining's ndcg@5: 0.607344\ttraining's ndcg@10: 0.592841\n",
      "[496]\ttraining's ndcg@5: 0.60743\ttraining's ndcg@10: 0.59281\n",
      "[497]\ttraining's ndcg@5: 0.608013\ttraining's ndcg@10: 0.593135\n",
      "[498]\ttraining's ndcg@5: 0.608236\ttraining's ndcg@10: 0.593477\n",
      "[499]\ttraining's ndcg@5: 0.608318\ttraining's ndcg@10: 0.593393\n",
      "[500]\ttraining's ndcg@5: 0.608862\ttraining's ndcg@10: 0.593741\n",
      "Did not meet early stopping. Best iteration is:\n",
      "[500]\ttraining's ndcg@5: 0.608862\ttraining's ndcg@10: 0.593741\n"
     ]
    },
    {
     "data": {
      "text/plain": [
       "LGBMRanker(categorical_column=['manufacturer', 'department', 'brand',\n",
       "                               'commodity_desc', 'sub_commodity_desc',\n",
       "                               'curr_size_of_product', 'age_desc',\n",
       "                               'marital_status_code', 'income_desc',\n",
       "                               'homeowner_desc', 'hh_comp_desc',\n",
       "                               'household_size_desc', 'kid_category_desc'],\n",
       "           is_unbalance=True, max_depth=4, n_estimators=500,\n",
       "           objective='lambdarank', random_state=27, silent=False, verbose=1)"
      ]
     },
     "execution_count": 894,
     "metadata": {},
     "output_type": "execute_result"
    }
   ],
   "source": [
    "lgb = LGBMRanker(**lgb_params, silent=False)\n",
    "lgb.fit(X_train, y_train, group=grs,\n",
    "        eval_set=[(X_train, y_train)], eval_group=[grs], \n",
    "        \n",
    "        eval_metric=['ndcg'],\n",
    "        eval_at=[5, 10 ], early_stopping_rounds=50)"
   ]
  },
  {
   "cell_type": "code",
   "execution_count": 895,
   "metadata": {},
   "outputs": [
    {
     "data": {
      "text/html": [
       "<div>\n",
       "<style scoped>\n",
       "    .dataframe tbody tr th:only-of-type {\n",
       "        vertical-align: middle;\n",
       "    }\n",
       "\n",
       "    .dataframe tbody tr th {\n",
       "        vertical-align: top;\n",
       "    }\n",
       "\n",
       "    .dataframe thead th {\n",
       "        text-align: right;\n",
       "    }\n",
       "</style>\n",
       "<table border=\"1\" class=\"dataframe\">\n",
       "  <thead>\n",
       "    <tr style=\"text-align: right;\">\n",
       "      <th></th>\n",
       "      <th>user_id</th>\n",
       "      <th>actual</th>\n",
       "    </tr>\n",
       "  </thead>\n",
       "  <tbody>\n",
       "    <tr>\n",
       "      <th>0</th>\n",
       "      <td>1</td>\n",
       "      <td>[821867, 834484, 856942, 865456, 889248, 90795...</td>\n",
       "    </tr>\n",
       "    <tr>\n",
       "      <th>1</th>\n",
       "      <td>3</td>\n",
       "      <td>[835476, 851057, 872021, 878302, 879948, 90963...</td>\n",
       "    </tr>\n",
       "    <tr>\n",
       "      <th>2</th>\n",
       "      <td>6</td>\n",
       "      <td>[920308, 926804, 946489, 1006718, 1017061, 107...</td>\n",
       "    </tr>\n",
       "  </tbody>\n",
       "</table>\n",
       "</div>"
      ],
      "text/plain": [
       "   user_id                                             actual\n",
       "0        1  [821867, 834484, 856942, 865456, 889248, 90795...\n",
       "1        3  [835476, 851057, 872021, 878302, 879948, 90963...\n",
       "2        6  [920308, 926804, 946489, 1006718, 1017061, 107..."
      ]
     },
     "execution_count": 895,
     "metadata": {},
     "output_type": "execute_result"
    }
   ],
   "source": [
    "result_lvl_2 = data_val_lvl_2.groupby('user_id')['item_id'].unique().reset_index()\n",
    "result_lvl_2.columns=['user_id', 'actual']\n",
    "result_lvl_2.head(3)"
   ]
  },
  {
   "cell_type": "code",
   "execution_count": 896,
   "metadata": {},
   "outputs": [],
   "source": [
    "users_val_lvl_2 = pd.DataFrame(data_val_lvl_2['user_id'].unique())\n",
    "users_val_lvl_2.columns = ['user_id']\n",
    "\n",
    "# Пока только warm start\n",
    "train_users = data_val_lvl_2['user_id'].unique()\n",
    "users_val_lvl_2 = users_val_lvl_2[users_val_lvl_2['user_id'].isin(train_users)]\n",
    "\n",
    "users_val_lvl_2['candidates'] = users_val_lvl_2['user_id'].apply(lambda x: recommender.get_als_recommendation(x, N=150))"
   ]
  },
  {
   "cell_type": "code",
   "execution_count": 897,
   "metadata": {},
   "outputs": [],
   "source": [
    "df=pd.DataFrame({'user_id':users_val_lvl_2.user_id.values.repeat(len(users_val_lvl_2.candidates[0])),\n",
    "                 'item_id':np.concatenate(users_val_lvl_2.candidates.values)})"
   ]
  },
  {
   "cell_type": "code",
   "execution_count": 737,
   "metadata": {},
   "outputs": [],
   "source": [
    "#targets_val_lvl_2"
   ]
  },
  {
   "cell_type": "code",
   "execution_count": 738,
   "metadata": {},
   "outputs": [],
   "source": [
    "# targets_val_lvl_2 = data_val_lvl_2[['user_id', 'item_id']].copy()\n",
    "# targets_val_lvl_2['target'] = 1  # тут только покупки "
   ]
  },
  {
   "cell_type": "code",
   "execution_count": 739,
   "metadata": {},
   "outputs": [],
   "source": [
    "# targets_val_lvl_2 = df.merge(targets_val_lvl_2, on=['user_id', 'item_id'], how='left')\n",
    "# targets_val_lvl_2['target'].fillna(0, inplace= True)"
   ]
  },
  {
   "cell_type": "code",
   "execution_count": 898,
   "metadata": {},
   "outputs": [],
   "source": [
    "targets_val_lvl_2 = df.copy()\n",
    "targets_val_lvl_2 = targets_val_lvl_2.merge(item_features, on='item_id', how='left')\n",
    "targets_val_lvl_2 = targets_val_lvl_2.merge(user_features, on='user_id', how='left')\n",
    "targets_val_lvl_2 = targets_val_lvl_2.merge(mean_sales_value, on='user_id', how='left')\n",
    "targets_val_lvl_2 = targets_val_lvl_2.merge(shops_number, on='user_id', how='left')\n",
    "targets_val_lvl_2 = targets_val_lvl_2.merge(items_number, on='user_id', how='left')\n",
    "targets_val_lvl_2 = targets_val_lvl_2.merge(coupon_match_disc, on='user_id', how='left')"
   ]
  },
  {
   "cell_type": "code",
   "execution_count": 899,
   "metadata": {},
   "outputs": [],
   "source": [
    "X_val = targets_val_lvl_2"
   ]
  },
  {
   "cell_type": "code",
   "execution_count": 900,
   "metadata": {},
   "outputs": [],
   "source": [
    "cat_feats = X_val.columns[2:15].tolist()\n",
    "X_val[cat_feats] = X_val[cat_feats].astype('category')"
   ]
  },
  {
   "cell_type": "code",
   "execution_count": 901,
   "metadata": {},
   "outputs": [],
   "source": [
    "predict = lgb.predict(X_val)"
   ]
  },
  {
   "cell_type": "code",
   "execution_count": 902,
   "metadata": {},
   "outputs": [
    {
     "data": {
      "text/plain": [
       "(306300,)"
      ]
     },
     "execution_count": 902,
     "metadata": {},
     "output_type": "execute_result"
    }
   ],
   "source": [
    "predict.shape"
   ]
  },
  {
   "cell_type": "code",
   "execution_count": 903,
   "metadata": {},
   "outputs": [],
   "source": [
    "prediction = df.copy()\n",
    "prediction['ranking'] = predict"
   ]
  },
  {
   "cell_type": "code",
   "execution_count": 904,
   "metadata": {},
   "outputs": [],
   "source": [
    "prediction.sort_values(['user_id', 'ranking'], ascending=[True,False], inplace=True)"
   ]
  },
  {
   "cell_type": "code",
   "execution_count": 905,
   "metadata": {},
   "outputs": [
    {
     "data": {
      "text/html": [
       "<div>\n",
       "<style scoped>\n",
       "    .dataframe tbody tr th:only-of-type {\n",
       "        vertical-align: middle;\n",
       "    }\n",
       "\n",
       "    .dataframe tbody tr th {\n",
       "        vertical-align: top;\n",
       "    }\n",
       "\n",
       "    .dataframe thead th {\n",
       "        text-align: right;\n",
       "    }\n",
       "</style>\n",
       "<table border=\"1\" class=\"dataframe\">\n",
       "  <thead>\n",
       "    <tr style=\"text-align: right;\">\n",
       "      <th></th>\n",
       "      <th>user_id</th>\n",
       "      <th>item_id</th>\n",
       "      <th>ranking</th>\n",
       "    </tr>\n",
       "  </thead>\n",
       "  <tbody>\n",
       "    <tr>\n",
       "      <th>159037</th>\n",
       "      <td>3</td>\n",
       "      <td>899624</td>\n",
       "      <td>1.092600</td>\n",
       "    </tr>\n",
       "    <tr>\n",
       "      <th>159032</th>\n",
       "      <td>3</td>\n",
       "      <td>983584</td>\n",
       "      <td>0.857835</td>\n",
       "    </tr>\n",
       "    <tr>\n",
       "      <th>159020</th>\n",
       "      <td>3</td>\n",
       "      <td>831063</td>\n",
       "      <td>0.578340</td>\n",
       "    </tr>\n",
       "    <tr>\n",
       "      <th>159143</th>\n",
       "      <td>3</td>\n",
       "      <td>838186</td>\n",
       "      <td>0.542186</td>\n",
       "    </tr>\n",
       "    <tr>\n",
       "      <th>159013</th>\n",
       "      <td>3</td>\n",
       "      <td>965766</td>\n",
       "      <td>0.439258</td>\n",
       "    </tr>\n",
       "    <tr>\n",
       "      <th>...</th>\n",
       "      <td>...</td>\n",
       "      <td>...</td>\n",
       "      <td>...</td>\n",
       "    </tr>\n",
       "    <tr>\n",
       "      <th>159058</th>\n",
       "      <td>3</td>\n",
       "      <td>9527290</td>\n",
       "      <td>-2.852269</td>\n",
       "    </tr>\n",
       "    <tr>\n",
       "      <th>159079</th>\n",
       "      <td>3</td>\n",
       "      <td>883418</td>\n",
       "      <td>-3.020806</td>\n",
       "    </tr>\n",
       "    <tr>\n",
       "      <th>159011</th>\n",
       "      <td>3</td>\n",
       "      <td>9526410</td>\n",
       "      <td>-3.075188</td>\n",
       "    </tr>\n",
       "    <tr>\n",
       "      <th>159139</th>\n",
       "      <td>3</td>\n",
       "      <td>926233</td>\n",
       "      <td>-3.346760</td>\n",
       "    </tr>\n",
       "    <tr>\n",
       "      <th>159136</th>\n",
       "      <td>3</td>\n",
       "      <td>1020581</td>\n",
       "      <td>-3.452568</td>\n",
       "    </tr>\n",
       "  </tbody>\n",
       "</table>\n",
       "<p>150 rows × 3 columns</p>\n",
       "</div>"
      ],
      "text/plain": [
       "        user_id  item_id   ranking\n",
       "159037        3   899624  1.092600\n",
       "159032        3   983584  0.857835\n",
       "159020        3   831063  0.578340\n",
       "159143        3   838186  0.542186\n",
       "159013        3   965766  0.439258\n",
       "...         ...      ...       ...\n",
       "159058        3  9527290 -2.852269\n",
       "159079        3   883418 -3.020806\n",
       "159011        3  9526410 -3.075188\n",
       "159139        3   926233 -3.346760\n",
       "159136        3  1020581 -3.452568\n",
       "\n",
       "[150 rows x 3 columns]"
      ]
     },
     "execution_count": 905,
     "metadata": {},
     "output_type": "execute_result"
    }
   ],
   "source": [
    "prediction.loc[prediction.user_id == 3]"
   ]
  },
  {
   "cell_type": "code",
   "execution_count": 906,
   "metadata": {},
   "outputs": [],
   "source": [
    "result_lvl_2['lgbm'] = result_lvl_2['user_id'].apply(lambda x:prediction['item_id'].loc[prediction.user_id == x].values[:5])"
   ]
  },
  {
   "cell_type": "code",
   "execution_count": 907,
   "metadata": {},
   "outputs": [
    {
     "data": {
      "text/html": [
       "<div>\n",
       "<style scoped>\n",
       "    .dataframe tbody tr th:only-of-type {\n",
       "        vertical-align: middle;\n",
       "    }\n",
       "\n",
       "    .dataframe tbody tr th {\n",
       "        vertical-align: top;\n",
       "    }\n",
       "\n",
       "    .dataframe thead th {\n",
       "        text-align: right;\n",
       "    }\n",
       "</style>\n",
       "<table border=\"1\" class=\"dataframe\">\n",
       "  <thead>\n",
       "    <tr style=\"text-align: right;\">\n",
       "      <th></th>\n",
       "      <th>user_id</th>\n",
       "      <th>actual</th>\n",
       "      <th>lgbm</th>\n",
       "    </tr>\n",
       "  </thead>\n",
       "  <tbody>\n",
       "    <tr>\n",
       "      <th>0</th>\n",
       "      <td>1</td>\n",
       "      <td>[821867, 834484, 856942, 865456, 889248, 90795...</td>\n",
       "      <td>[8293439, 901062, 1104349, 878285, 965766]</td>\n",
       "    </tr>\n",
       "    <tr>\n",
       "      <th>1</th>\n",
       "      <td>3</td>\n",
       "      <td>[835476, 851057, 872021, 878302, 879948, 90963...</td>\n",
       "      <td>[899624, 983584, 831063, 838186, 965766]</td>\n",
       "    </tr>\n",
       "    <tr>\n",
       "      <th>2</th>\n",
       "      <td>6</td>\n",
       "      <td>[920308, 926804, 946489, 1006718, 1017061, 107...</td>\n",
       "      <td>[1098844, 1098248, 976199, 1139782, 1041157]</td>\n",
       "    </tr>\n",
       "  </tbody>\n",
       "</table>\n",
       "</div>"
      ],
      "text/plain": [
       "   user_id                                             actual  \\\n",
       "0        1  [821867, 834484, 856942, 865456, 889248, 90795...   \n",
       "1        3  [835476, 851057, 872021, 878302, 879948, 90963...   \n",
       "2        6  [920308, 926804, 946489, 1006718, 1017061, 107...   \n",
       "\n",
       "                                           lgbm  \n",
       "0    [8293439, 901062, 1104349, 878285, 965766]  \n",
       "1      [899624, 983584, 831063, 838186, 965766]  \n",
       "2  [1098844, 1098248, 976199, 1139782, 1041157]  "
      ]
     },
     "execution_count": 907,
     "metadata": {},
     "output_type": "execute_result"
    }
   ],
   "source": [
    "result_lvl_2.head(3)"
   ]
  },
  {
   "cell_type": "code",
   "execution_count": 908,
   "metadata": {},
   "outputs": [
    {
     "data": {
      "text/plain": [
       "0.11537708129284935"
      ]
     },
     "execution_count": 908,
     "metadata": {},
     "output_type": "execute_result"
    }
   ],
   "source": [
    "result_lvl_2.apply(lambda x: precision_at_k(x['lgbm'], x['actual'], k=5), axis=1).mean()"
   ]
  },
  {
   "cell_type": "code",
   "execution_count": 917,
   "metadata": {},
   "outputs": [
    {
     "name": "stderr",
     "output_type": "stream",
     "text": [
      "C:\\Users\\Pavel\\Anaconda3\\lib\\site-packages\\sklearn\\utils\\validation.py:72: DataConversionWarning: A column-vector y was passed when a 1d array was expected. Please change the shape of y to (n_samples, ), for example using ravel().\n",
      "  return f(**kwargs)\n",
      "C:\\Users\\Pavel\\Anaconda3\\lib\\site-packages\\lightgbm\\basic.py:863: UserWarning: categorical_column in param dict is overridden.\n",
      "  warnings.warn('{} in param dict is overridden.'.format(cat_alias))\n"
     ]
    },
    {
     "data": {
      "text/plain": [
       "LGBMClassifier(categorical_column=['manufacturer', 'department', 'brand',\n",
       "                                   'commodity_desc', 'sub_commodity_desc',\n",
       "                                   'curr_size_of_product', 'age_desc',\n",
       "                                   'marital_status_code', 'income_desc',\n",
       "                                   'homeowner_desc', 'hh_comp_desc',\n",
       "                                   'household_size_desc', 'kid_category_desc'],\n",
       "               max_depth=12, objective='binary')"
      ]
     },
     "execution_count": 917,
     "metadata": {},
     "output_type": "execute_result"
    }
   ],
   "source": [
    "lgb_cl = LGBMClassifier(objective='binary', max_depth=12, categorical_column=cat_feats, )\n",
    "lgb_cl.fit(X_train, y_train)"
   ]
  },
  {
   "cell_type": "code",
   "execution_count": 918,
   "metadata": {},
   "outputs": [],
   "source": [
    "val_preds = lgb_cl.predict_proba(X_val)"
   ]
  },
  {
   "cell_type": "code",
   "execution_count": 919,
   "metadata": {},
   "outputs": [],
   "source": [
    "prediction_cl = df.copy()\n",
    "prediction_cl['ranking'] = val_preds[:,1]"
   ]
  },
  {
   "cell_type": "code",
   "execution_count": 920,
   "metadata": {},
   "outputs": [],
   "source": [
    "prediction_cl.sort_values(['user_id', 'ranking'], ascending=[True,False], inplace=True)"
   ]
  },
  {
   "cell_type": "code",
   "execution_count": 921,
   "metadata": {},
   "outputs": [
    {
     "data": {
      "text/html": [
       "<div>\n",
       "<style scoped>\n",
       "    .dataframe tbody tr th:only-of-type {\n",
       "        vertical-align: middle;\n",
       "    }\n",
       "\n",
       "    .dataframe tbody tr th {\n",
       "        vertical-align: top;\n",
       "    }\n",
       "\n",
       "    .dataframe thead th {\n",
       "        text-align: right;\n",
       "    }\n",
       "</style>\n",
       "<table border=\"1\" class=\"dataframe\">\n",
       "  <thead>\n",
       "    <tr style=\"text-align: right;\">\n",
       "      <th></th>\n",
       "      <th>user_id</th>\n",
       "      <th>item_id</th>\n",
       "      <th>ranking</th>\n",
       "    </tr>\n",
       "  </thead>\n",
       "  <tbody>\n",
       "    <tr>\n",
       "      <th>137753</th>\n",
       "      <td>1</td>\n",
       "      <td>8293439</td>\n",
       "      <td>0.751787</td>\n",
       "    </tr>\n",
       "    <tr>\n",
       "      <th>137725</th>\n",
       "      <td>1</td>\n",
       "      <td>9655212</td>\n",
       "      <td>0.574228</td>\n",
       "    </tr>\n",
       "    <tr>\n",
       "      <th>137805</th>\n",
       "      <td>1</td>\n",
       "      <td>901062</td>\n",
       "      <td>0.523831</td>\n",
       "    </tr>\n",
       "    <tr>\n",
       "      <th>137760</th>\n",
       "      <td>1</td>\n",
       "      <td>1104349</td>\n",
       "      <td>0.388922</td>\n",
       "    </tr>\n",
       "    <tr>\n",
       "      <th>137711</th>\n",
       "      <td>1</td>\n",
       "      <td>885290</td>\n",
       "      <td>0.386793</td>\n",
       "    </tr>\n",
       "  </tbody>\n",
       "</table>\n",
       "</div>"
      ],
      "text/plain": [
       "        user_id  item_id   ranking\n",
       "137753        1  8293439  0.751787\n",
       "137725        1  9655212  0.574228\n",
       "137805        1   901062  0.523831\n",
       "137760        1  1104349  0.388922\n",
       "137711        1   885290  0.386793"
      ]
     },
     "execution_count": 921,
     "metadata": {},
     "output_type": "execute_result"
    }
   ],
   "source": [
    "prediction_cl.head(5)"
   ]
  },
  {
   "cell_type": "code",
   "execution_count": 922,
   "metadata": {},
   "outputs": [],
   "source": [
    "result_lvl_2['lgbm_cl'] = result_lvl_2['user_id'].apply(lambda x:prediction_cl['item_id'].loc[prediction_cl.user_id == x].values[:5])"
   ]
  },
  {
   "cell_type": "code",
   "execution_count": 923,
   "metadata": {},
   "outputs": [
    {
     "data": {
      "text/plain": [
       "0.12389813907933328"
      ]
     },
     "execution_count": 923,
     "metadata": {},
     "output_type": "execute_result"
    }
   ],
   "source": [
    "result_lvl_2.apply(lambda x: precision_at_k(x['lgbm_cl'], x['actual'], k=5), axis=1).mean()"
   ]
  },
  {
   "cell_type": "markdown",
   "metadata": {},
   "source": [
    "Попытался разобраться с ранкером - получил какую-то хрень. Либо так и должно быть без нормальных доп. фичей, или где-то грубая ошибка (неправильно склеены ответы, ошибка в самом модуле src и т.д.) <br>\n",
    "Испрвлять буду уже в курсовом проекте, пока что план работы понятен."
   ]
  },
  {
   "cell_type": "code",
   "execution_count": null,
   "metadata": {},
   "outputs": [],
   "source": []
  },
  {
   "cell_type": "markdown",
   "metadata": {},
   "source": [
    "### Финальный проект\n",
    "\n",
    "Мы уже прошли всю необходимуб теорию для финального проекта. Проект осуществляется на данных из вебинара (данные считаны в начале ДЗ).\n",
    "Рекомендуем вам **начать делать проект сразу после этого домашнего задания**\n",
    "- Целевая метрика - precision@5. Порог для уcпешной сдачи проекта precision@5 > 0.27%\n",
    "- Будет public тестовый датасет, на котором вы сможете измерять метрику\n",
    "- Также будет private тестовый датасет для измерения финального качества\n",
    "- НЕ обязательно, но крайне желательно использовать 2-ух уровневые рекоммендательные системы в проекте\n",
    "- Вы сдаете код проекта в виде github репозитория и csv файл с рекомендациями "
   ]
  }
 ],
 "metadata": {
  "kernelspec": {
   "display_name": "Python 3",
   "language": "python",
   "name": "python3"
  },
  "language_info": {
   "codemirror_mode": {
    "name": "ipython",
    "version": 3
   },
   "file_extension": ".py",
   "mimetype": "text/x-python",
   "name": "python",
   "nbconvert_exporter": "python",
   "pygments_lexer": "ipython3",
   "version": "3.7.3"
  }
 },
 "nbformat": 4,
 "nbformat_minor": 2
}
